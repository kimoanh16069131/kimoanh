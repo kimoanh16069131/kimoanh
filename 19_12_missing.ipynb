{
  "nbformat": 4,
  "nbformat_minor": 0,
  "metadata": {
    "colab": {
      "name": "19/12-missing.ipynb",
      "provenance": [],
      "collapsed_sections": [],
      "authorship_tag": "ABX9TyPIf+5WYOVhaiu/Eh7CO75x",
      "include_colab_link": true
    },
    "kernelspec": {
      "name": "python3",
      "display_name": "Python 3"
    }
  },
  "cells": [
    {
      "cell_type": "markdown",
      "metadata": {
        "id": "view-in-github",
        "colab_type": "text"
      },
      "source": [
        "<a href=\"https://colab.research.google.com/github/kimoanh16069131/kimoanh/blob/master/19_12_missing.ipynb\" target=\"_parent\"><img src=\"https://colab.research.google.com/assets/colab-badge.svg\" alt=\"Open In Colab\"/></a>"
      ]
    },
    {
      "cell_type": "code",
      "metadata": {
        "id": "2CU0CO59Wg_q"
      },
      "source": [
        "import pandas as pd\r\n",
        "reviews = pd.read_csv(\"/content/sample_data/winemag-data-130k-v2.csv\" , index_col=0)\r\n",
        "pd.set_option('max_rows', 5)"
      ],
      "execution_count": null,
      "outputs": []
    },
    {
      "cell_type": "code",
      "metadata": {
        "colab": {
          "base_uri": "https://localhost:8080/"
        },
        "id": "ssd7jKA2Y_D1",
        "outputId": "b530439a-b711-4545-f323-21b0e6731a25"
      },
      "source": [
        "#sử dụng thuộc tính dtype để lấy kiểu của một cột\r\n",
        "reviews.price.dtype"
      ],
      "execution_count": null,
      "outputs": [
        {
          "output_type": "execute_result",
          "data": {
            "text/plain": [
              "dtype('float64')"
            ]
          },
          "metadata": {
            "tags": []
          },
          "execution_count": 12
        }
      ]
    },
    {
      "cell_type": "code",
      "metadata": {
        "colab": {
          "base_uri": "https://localhost:8080/"
        },
        "id": "5cj0G5MDZi01",
        "outputId": "135ab691-f0dd-4ab1-8943-e2c72405bf22"
      },
      "source": [
        "#trả về loại dtype của mọi cột trong DataFrame\r\n",
        "reviews.dtypes"
      ],
      "execution_count": null,
      "outputs": [
        {
          "output_type": "execute_result",
          "data": {
            "text/plain": [
              "country        object\n",
              "description    object\n",
              "                ...  \n",
              "variety        object\n",
              "winery         object\n",
              "Length: 13, dtype: object"
            ]
          },
          "metadata": {
            "tags": []
          },
          "execution_count": 13
        }
      ]
    },
    {
      "cell_type": "code",
      "metadata": {
        "colab": {
          "base_uri": "https://localhost:8080/"
        },
        "id": "HvdCC9YsbaKO",
        "outputId": "4eb229e9-b61a-4966-eb24-6bbb72d572d0"
      },
      "source": [
        "#chuyển đổi cột điểm từ kiểu dữ liệu int64 hiện có của nó thành kiểu dữ liệu float64\r\n",
        "reviews.points.astype('float64')"
      ],
      "execution_count": null,
      "outputs": [
        {
          "output_type": "execute_result",
          "data": {
            "text/plain": [
              "0        87.0\n",
              "1        87.0\n",
              "         ... \n",
              "65497    90.0\n",
              "65498    90.0\n",
              "Name: points, Length: 65499, dtype: float64"
            ]
          },
          "metadata": {
            "tags": []
          },
          "execution_count": 14
        }
      ]
    },
    {
      "cell_type": "code",
      "metadata": {
        "colab": {
          "base_uri": "https://localhost:8080/"
        },
        "id": "lgvy3tlub-tt",
        "outputId": "af24a3b8-2140-4693-a793-a25637523c3f"
      },
      "source": [
        "#Chỉ mục DataFrame hoặc Chuỗi có loại riêng của nó\r\n",
        "reviews.index.dtype"
      ],
      "execution_count": null,
      "outputs": [
        {
          "output_type": "execute_result",
          "data": {
            "text/plain": [
              "dtype('int64')"
            ]
          },
          "metadata": {
            "tags": []
          },
          "execution_count": 15
        }
      ]
    },
    {
      "cell_type": "code",
      "metadata": {
        "colab": {
          "base_uri": "https://localhost:8080/",
          "height": 301
        },
        "id": "T33g3fmkcOVd",
        "outputId": "577e5d67-117c-4fbe-e77c-b8ef074776d0"
      },
      "source": [
        "#Các mục nhập thiếu giá trị được cung cấp giá trị NaN, viết tắt của \"Not a Number\". Vì các lý do kỹ thuật, các giá trị NaN này luôn thuộc loại float64.\r\n",
        "#sử dụng pd.isnull () (hoặc pd.notnull ()\r\n",
        "reviews[pd.isnull(reviews.country)]"
      ],
      "execution_count": null,
      "outputs": [
        {
          "output_type": "execute_result",
          "data": {
            "text/html": [
              "<div>\n",
              "<style scoped>\n",
              "    .dataframe tbody tr th:only-of-type {\n",
              "        vertical-align: middle;\n",
              "    }\n",
              "\n",
              "    .dataframe tbody tr th {\n",
              "        vertical-align: top;\n",
              "    }\n",
              "\n",
              "    .dataframe thead th {\n",
              "        text-align: right;\n",
              "    }\n",
              "</style>\n",
              "<table border=\"1\" class=\"dataframe\">\n",
              "  <thead>\n",
              "    <tr style=\"text-align: right;\">\n",
              "      <th></th>\n",
              "      <th>country</th>\n",
              "      <th>description</th>\n",
              "      <th>designation</th>\n",
              "      <th>points</th>\n",
              "      <th>price</th>\n",
              "      <th>province</th>\n",
              "      <th>region_1</th>\n",
              "      <th>region_2</th>\n",
              "      <th>taster_name</th>\n",
              "      <th>taster_twitter_handle</th>\n",
              "      <th>title</th>\n",
              "      <th>variety</th>\n",
              "      <th>winery</th>\n",
              "    </tr>\n",
              "  </thead>\n",
              "  <tbody>\n",
              "    <tr>\n",
              "      <th>913</th>\n",
              "      <td>NaN</td>\n",
              "      <td>Amber in color, this wine has aromas of peach ...</td>\n",
              "      <td>Asureti Valley</td>\n",
              "      <td>87</td>\n",
              "      <td>30.0</td>\n",
              "      <td>NaN</td>\n",
              "      <td>NaN</td>\n",
              "      <td>NaN</td>\n",
              "      <td>Mike DeSimone</td>\n",
              "      <td>@worldwineguys</td>\n",
              "      <td>Gotsa Family Wines 2014 Asureti Valley Chinuri</td>\n",
              "      <td>Chinuri</td>\n",
              "      <td>Gotsa Family Wines</td>\n",
              "    </tr>\n",
              "    <tr>\n",
              "      <th>3131</th>\n",
              "      <td>NaN</td>\n",
              "      <td>Soft, fruity and juicy, this is a pleasant, si...</td>\n",
              "      <td>Partager</td>\n",
              "      <td>83</td>\n",
              "      <td>NaN</td>\n",
              "      <td>NaN</td>\n",
              "      <td>NaN</td>\n",
              "      <td>NaN</td>\n",
              "      <td>Roger Voss</td>\n",
              "      <td>@vossroger</td>\n",
              "      <td>Barton &amp; Guestier NV Partager Red</td>\n",
              "      <td>Red Blend</td>\n",
              "      <td>Barton &amp; Guestier</td>\n",
              "    </tr>\n",
              "    <tr>\n",
              "      <th>...</th>\n",
              "      <td>...</td>\n",
              "      <td>...</td>\n",
              "      <td>...</td>\n",
              "      <td>...</td>\n",
              "      <td>...</td>\n",
              "      <td>...</td>\n",
              "      <td>...</td>\n",
              "      <td>...</td>\n",
              "      <td>...</td>\n",
              "      <td>...</td>\n",
              "      <td>...</td>\n",
              "      <td>...</td>\n",
              "      <td>...</td>\n",
              "    </tr>\n",
              "    <tr>\n",
              "      <th>59670</th>\n",
              "      <td>NaN</td>\n",
              "      <td>The heady florality of damask rose is joined b...</td>\n",
              "      <td>Steintal</td>\n",
              "      <td>92</td>\n",
              "      <td>38.0</td>\n",
              "      <td>NaN</td>\n",
              "      <td>NaN</td>\n",
              "      <td>NaN</td>\n",
              "      <td>Anne Krebiehl MW</td>\n",
              "      <td>@AnneInVino</td>\n",
              "      <td>Neumeister 2015 Steintal Roter Traminer</td>\n",
              "      <td>Roter Traminer</td>\n",
              "      <td>Neumeister</td>\n",
              "    </tr>\n",
              "    <tr>\n",
              "      <th>60678</th>\n",
              "      <td>NaN</td>\n",
              "      <td>This wine was made for grilled meats, with its...</td>\n",
              "      <td>Dry</td>\n",
              "      <td>86</td>\n",
              "      <td>17.0</td>\n",
              "      <td>NaN</td>\n",
              "      <td>NaN</td>\n",
              "      <td>NaN</td>\n",
              "      <td>Susan Kostrzewa</td>\n",
              "      <td>@suskostrzewa</td>\n",
              "      <td>Ktima Voyatzi 2015 Dry Rosé</td>\n",
              "      <td>Rosé</td>\n",
              "      <td>Ktima Voyatzi</td>\n",
              "    </tr>\n",
              "  </tbody>\n",
              "</table>\n",
              "<p>32 rows × 13 columns</p>\n",
              "</div>"
            ],
            "text/plain": [
              "      country  ...              winery\n",
              "913       NaN  ...  Gotsa Family Wines\n",
              "3131      NaN  ...   Barton & Guestier\n",
              "...       ...  ...                 ...\n",
              "59670     NaN  ...          Neumeister\n",
              "60678     NaN  ...       Ktima Voyatzi\n",
              "\n",
              "[32 rows x 13 columns]"
            ]
          },
          "metadata": {
            "tags": []
          },
          "execution_count": 16
        }
      ]
    },
    {
      "cell_type": "code",
      "metadata": {
        "colab": {
          "base_uri": "https://localhost:8080/"
        },
        "id": "7qe0trNFcliP",
        "outputId": "a0ea6e9f-3298-4012-c1dc-fee561a7daf2"
      },
      "source": [
        "#có thể chỉ cần thay thế mỗi NaN bằng một \"Không xác định\"\r\n",
        "reviews.region_2.fillna(\"Unknown\")"
      ],
      "execution_count": null,
      "outputs": [
        {
          "output_type": "execute_result",
          "data": {
            "text/plain": [
              "0        Unknown\n",
              "1        Unknown\n",
              "          ...   \n",
              "65497       Napa\n",
              "65498    Unknown\n",
              "Name: region_2, Length: 65499, dtype: object"
            ]
          },
          "metadata": {
            "tags": []
          },
          "execution_count": 17
        }
      ]
    },
    {
      "cell_type": "code",
      "metadata": {
        "colab": {
          "base_uri": "https://localhost:8080/"
        },
        "id": "BrqB1YGcc-lV",
        "outputId": "69d12c15-bb48-40a6-b82e-b23808824b1b"
      },
      "source": [
        "#kể từ khi tập dữ liệu này được xuất bản, người đánh giá Kerin O'Keefe đã thay đổi xử lý Twitter của mình từ @kerinokeefe \r\n",
        "#thành @kerino. Một cách để phản ánh điều này trong tập dữ liệu là sử dụng phương thức Replace ()\r\n",
        "reviews.taster_twitter_handle.replace(\"@kerinokeefe\", \"@kerino\")"
      ],
      "execution_count": null,
      "outputs": [
        {
          "output_type": "execute_result",
          "data": {
            "text/plain": [
              "0            @kerino\n",
              "1         @vossroger\n",
              "            ...     \n",
              "65497            NaN\n",
              "65498    @wineschach\n",
              "Name: taster_twitter_handle, Length: 65499, dtype: object"
            ]
          },
          "metadata": {
            "tags": []
          },
          "execution_count": 18
        }
      ]
    }
  ]
}