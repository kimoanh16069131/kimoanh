{
  "nbformat": 4,
  "nbformat_minor": 0,
  "metadata": {
    "colab": {
      "name": "tuan7-TH3.ipynb",
      "provenance": [],
      "collapsed_sections": [],
      "include_colab_link": true
    },
    "kernelspec": {
      "name": "python3",
      "display_name": "Python 3"
    }
  },
  "cells": [
    {
      "cell_type": "markdown",
      "metadata": {
        "id": "view-in-github",
        "colab_type": "text"
      },
      "source": [
        "<a href=\"https://colab.research.google.com/github/kimoanh16069131/kimoanh/blob/master/tuan7_TH3.ipynb\" target=\"_parent\"><img src=\"https://colab.research.google.com/assets/colab-badge.svg\" alt=\"Open In Colab\"/></a>"
      ]
    },
    {
      "cell_type": "code",
      "metadata": {
        "id": "fc8OExygzdQu",
        "colab": {
          "base_uri": "https://localhost:8080/",
          "height": 203
        },
        "outputId": "d080a1bc-459c-46da-9de0-59eae023f727"
      },
      "source": [
        "import pandas as pd\n",
        "import matplotlib.pyplot as plt\n",
        "import numpy as np\n",
        "import seaborn as sns\n",
        "sns.set_theme()\n",
        "from google.colab import files\n",
        "\n",
        "sns.lmplot(x='Attack', y='Defense', data=df)"
      ],
      "execution_count": null,
      "outputs": [
        {
          "output_type": "error",
          "ename": "NameError",
          "evalue": "ignored",
          "traceback": [
            "\u001b[0;31m---------------------------------------------------------------------------\u001b[0m",
            "\u001b[0;31mNameError\u001b[0m                                 Traceback (most recent call last)",
            "\u001b[0;32m<ipython-input-1-ff927e49180d>\u001b[0m in \u001b[0;36m<module>\u001b[0;34m()\u001b[0m\n\u001b[1;32m      6\u001b[0m \u001b[0;32mfrom\u001b[0m \u001b[0mgoogle\u001b[0m\u001b[0;34m.\u001b[0m\u001b[0mcolab\u001b[0m \u001b[0;32mimport\u001b[0m \u001b[0mfiles\u001b[0m\u001b[0;34m\u001b[0m\u001b[0;34m\u001b[0m\u001b[0m\n\u001b[1;32m      7\u001b[0m \u001b[0;34m\u001b[0m\u001b[0m\n\u001b[0;32m----> 8\u001b[0;31m \u001b[0msns\u001b[0m\u001b[0;34m.\u001b[0m\u001b[0mlmplot\u001b[0m\u001b[0;34m(\u001b[0m\u001b[0mx\u001b[0m\u001b[0;34m=\u001b[0m\u001b[0;34m'Attack'\u001b[0m\u001b[0;34m,\u001b[0m \u001b[0my\u001b[0m\u001b[0;34m=\u001b[0m\u001b[0;34m'Defense'\u001b[0m\u001b[0;34m,\u001b[0m \u001b[0mdata\u001b[0m\u001b[0;34m=\u001b[0m\u001b[0mdf\u001b[0m\u001b[0;34m)\u001b[0m\u001b[0;34m\u001b[0m\u001b[0;34m\u001b[0m\u001b[0m\n\u001b[0m",
            "\u001b[0;31mNameError\u001b[0m: name 'df' is not defined"
          ]
        }
      ]
    },
    {
      "cell_type": "code",
      "metadata": {
        "id": "x8G2ByWcPQO2",
        "colab": {
          "base_uri": "https://localhost:8080/",
          "height": 167
        },
        "outputId": "132e2166-4e1a-4cd9-a0f8-73b69d5eeb00"
      },
      "source": [
        "df.head(5)"
      ],
      "execution_count": 1,
      "outputs": [
        {
          "output_type": "error",
          "ename": "NameError",
          "evalue": "ignored",
          "traceback": [
            "\u001b[0;31m---------------------------------------------------------------------------\u001b[0m",
            "\u001b[0;31mNameError\u001b[0m                                 Traceback (most recent call last)",
            "\u001b[0;32m<ipython-input-1-a29405eb924b>\u001b[0m in \u001b[0;36m<module>\u001b[0;34m()\u001b[0m\n\u001b[0;32m----> 1\u001b[0;31m \u001b[0mdf\u001b[0m\u001b[0;34m.\u001b[0m\u001b[0mhead\u001b[0m\u001b[0;34m(\u001b[0m\u001b[0;36m5\u001b[0m\u001b[0;34m)\u001b[0m\u001b[0;34m\u001b[0m\u001b[0;34m\u001b[0m\u001b[0m\n\u001b[0m",
            "\u001b[0;31mNameError\u001b[0m: name 'df' is not defined"
          ]
        }
      ]
    },
    {
      "cell_type": "code",
      "metadata": {
        "id": "2jWHecvCO3QO",
        "colab": {
          "base_uri": "https://localhost:8080/",
          "height": 238
        },
        "outputId": "2f8c83f7-3c72-4a16-f961-55d3e378ea5c"
      },
      "source": [
        "sns.lmplot(x='Attack', y='Defense', data=df,\n",
        "           fit_reg=False, # khong co dong hoi quy\n",
        "           hue='Stage')   # mau sac theo cot Stage\n",
        "plt.ylim(0, None) #chinh gioi han bang plt\n",
        "plt.xlim(0, None)"
      ],
      "execution_count": 2,
      "outputs": [
        {
          "output_type": "error",
          "ename": "NameError",
          "evalue": "ignored",
          "traceback": [
            "\u001b[0;31m---------------------------------------------------------------------------\u001b[0m",
            "\u001b[0;31mNameError\u001b[0m                                 Traceback (most recent call last)",
            "\u001b[0;32m<ipython-input-2-528d34039a2d>\u001b[0m in \u001b[0;36m<module>\u001b[0;34m()\u001b[0m\n\u001b[0;32m----> 1\u001b[0;31m sns.lmplot(x='Attack', y='Defense', data=df,\n\u001b[0m\u001b[1;32m      2\u001b[0m            \u001b[0mfit_reg\u001b[0m\u001b[0;34m=\u001b[0m\u001b[0;32mFalse\u001b[0m\u001b[0;34m,\u001b[0m \u001b[0;31m# khong co dong hoi quy\u001b[0m\u001b[0;34m\u001b[0m\u001b[0;34m\u001b[0m\u001b[0m\n\u001b[1;32m      3\u001b[0m            hue='Stage')   # mau sac theo cot Stage\n\u001b[1;32m      4\u001b[0m \u001b[0mplt\u001b[0m\u001b[0;34m.\u001b[0m\u001b[0mylim\u001b[0m\u001b[0;34m(\u001b[0m\u001b[0;36m0\u001b[0m\u001b[0;34m,\u001b[0m \u001b[0;32mNone\u001b[0m\u001b[0;34m)\u001b[0m \u001b[0;31m#chinh gioi han bang plt\u001b[0m\u001b[0;34m\u001b[0m\u001b[0;34m\u001b[0m\u001b[0m\n\u001b[1;32m      5\u001b[0m \u001b[0mplt\u001b[0m\u001b[0;34m.\u001b[0m\u001b[0mxlim\u001b[0m\u001b[0;34m(\u001b[0m\u001b[0;36m0\u001b[0m\u001b[0;34m,\u001b[0m \u001b[0;32mNone\u001b[0m\u001b[0;34m)\u001b[0m\u001b[0;34m\u001b[0m\u001b[0;34m\u001b[0m\u001b[0m\n",
            "\u001b[0;31mNameError\u001b[0m: name 'sns' is not defined"
          ]
        }
      ]
    },
    {
      "cell_type": "code",
      "metadata": {
        "id": "JaewPn5cQFeM"
      },
      "source": [
        "sns.boxplot(data=df) #boxplot cua df"
      ],
      "execution_count": null,
      "outputs": []
    },
    {
      "cell_type": "code",
      "metadata": {
        "id": "dJXePdMdQRHz"
      },
      "source": [
        "stats_df = df.drop(['Total', 'Stage', 'Legendary'], axis=1) # tao stats_df voi bang df xoa cot Total', 'Stage', 'Legendary'\n",
        "stats_df.head(5)"
      ],
      "execution_count": null,
      "outputs": []
    },
    {
      "cell_type": "code",
      "metadata": {
        "id": "4cmYoQDRQy-7"
      },
      "source": [
        "sns.set_style('whitegrid') #chon theme\n",
        "sns.violinplot(x='Type 1', y='Attack', data=df) # ve violinplot voi data=df\n",
        "\n"
      ],
      "execution_count": null,
      "outputs": []
    },
    {
      "cell_type": "code",
      "metadata": {
        "id": "eYS7gL1oRmTl"
      },
      "source": [
        "pkmn_type_colors = ['#78C850',  # Grass\n",
        "                    '#F08030',  # Fire\n",
        "                    '#6890F0',  # Water\n",
        "                    '#A8B820',  # Bug\n",
        "                    '#A8A878',  # Normal\n",
        "                    '#A040A0',  # Poison\n",
        "                    '#F8D030',  # Electric\n",
        "                    '#E0C068',  # Ground\n",
        "                    '#EE99AC',  # Fairy\n",
        "                    '#C03028',  # Fighting\n",
        "                    '#F85888',  # Psychic\n",
        "                    '#B8A038',  # Rock\n",
        "                    '#705898',  # Ghost\n",
        "                    '#98D8D8',  # Ice\n",
        "                    '#7038F8',  # Dragon\n",
        "                   ]\n",
        "sns.violinplot(x='Type 1', y='Attack', data=df, \n",
        "               palette=pkmn_type_colors) #violinplot voi bang mau la pkmn_type_colors"
      ],
      "execution_count": null,
      "outputs": []
    },
    {
      "cell_type": "code",
      "metadata": {
        "id": "Pv0NwPMeSLMm"
      },
      "source": [
        "sns.swarmplot(x='Type 1', y='Attack', data=df, \n",
        "              palette=pkmn_type_colors) #swarmplot voi bang mau la pkmn_type_colors\n"
      ],
      "execution_count": null,
      "outputs": []
    },
    {
      "cell_type": "code",
      "metadata": {
        "id": "fNruiWbcSqjW"
      },
      "source": [
        "# Chon kich thuoc trong plt\n",
        "plt.figure(figsize=(10,6))\n",
        " \n",
        "# Create plot\n",
        "sns.violinplot(x='Type 1',\n",
        "               y='Attack', \n",
        "               data=df, \n",
        "               inner=None, # bo cac thanh ben trong \n",
        "               palette=pkmn_type_colors)\n",
        " \n",
        "sns.swarmplot(x='Type 1', \n",
        "              y='Attack', \n",
        "              data=df, \n",
        "              color='k', # cham den \n",
        "              alpha=0.5) # trong suot\n",
        " \n",
        "# Set title with matplotlib\n",
        "plt.title('Attack by Type')"
      ],
      "execution_count": null,
      "outputs": []
    },
    {
      "cell_type": "code",
      "metadata": {
        "id": "2Fg0-RVmT_4-"
      },
      "source": [
        "melted_df = pd.melt(stats_df, \n",
        "                    id_vars=[\"Name\", \"Type 1\", \"Type 2\"], # giu lai cac cot\n",
        "                    var_name=\"Stat\") # ten cua bien melted\n",
        "melted_df.head()"
      ],
      "execution_count": null,
      "outputs": []
    },
    {
      "cell_type": "code",
      "metadata": {
        "id": "3qIiNyDwU7Fm"
      },
      "source": [
        "# kich thuoc cua mang\n",
        "print( stats_df.shape )\n",
        "print( melted_df.shape )"
      ],
      "execution_count": null,
      "outputs": []
    },
    {
      "cell_type": "code",
      "metadata": {
        "id": "UyknM5HLVclE"
      },
      "source": [
        "sns.swarmplot(x='Stat', y='value', data=melted_df, hue='Type 1')\n"
      ],
      "execution_count": null,
      "outputs": []
    },
    {
      "cell_type": "code",
      "metadata": {
        "id": "LiD5q-GRV-O2"
      },
      "source": [
        "plt.figure(figsize=(10,6))\n",
        " \n",
        "sns.swarmplot(x='Stat', \n",
        "              y='value', \n",
        "              data=melted_df, \n",
        "              hue='Type 1', \n",
        "              split=True, # Tach cac diem theo mau sac\n",
        "              palette=pkmn_type_colors) # 3. su dung bang mau pkmn_type_colors\n",
        "# Dat gioi han cho cot y\n",
        "plt.ylim(0, 260)\n",
        " \n",
        "# Dat chu thich o ben phai\n",
        "plt.legend(bbox_to_anchor=(1, 1), loc=2)\n"
      ],
      "execution_count": null,
      "outputs": []
    },
    {
      "cell_type": "code",
      "metadata": {
        "id": "6YkfINbNXOW-"
      },
      "source": [
        "corr = stats_df.corr() #tinh toan cac moi lien quam\n",
        "sns.heatmap(corr) "
      ],
      "execution_count": null,
      "outputs": []
    },
    {
      "cell_type": "code",
      "metadata": {
        "id": "CfJ_sIRyXYc0"
      },
      "source": [
        "sns.distplot(df.Attack)"
      ],
      "execution_count": null,
      "outputs": []
    },
    {
      "cell_type": "code",
      "metadata": {
        "id": "qhjuEkeIXe3d"
      },
      "source": [
        "sns.countplot(x='Type 1', data=df, palette=pkmn_type_colors)\n",
        "plt.xticks(rotation=-45) #tieu de dong x lech 45 do"
      ],
      "execution_count": null,
      "outputs": []
    },
    {
      "cell_type": "code",
      "metadata": {
        "id": "fCsYKFzyX1YA"
      },
      "source": [
        "\n",
        "# Factor Plot\n",
        "g = sns.factorplot(x='Type 1', \n",
        "                   y='Attack', \n",
        "                   data=df, \n",
        "                   hue='Stage',  # mau ua cot Stage\n",
        "                   col='Stage',  # chia cot Stage \n",
        "                   kind='swarm') # Swarmplot\n",
        " \n",
        "# Rotate x-axis labels\n",
        "g.set_xticklabels(rotation=-45)"
      ],
      "execution_count": null,
      "outputs": []
    },
    {
      "cell_type": "code",
      "metadata": {
        "id": "RIu5iCPTYnaN"
      },
      "source": [
        "\n",
        "# Density Plot\n",
        "sns.kdeplot(df.Attack, df.Defense)"
      ],
      "execution_count": null,
      "outputs": []
    },
    {
      "cell_type": "code",
      "metadata": {
        "id": "rO8sqyL6YtkV"
      },
      "source": [
        "sns.jointplot(x='Attack', y='Defense', data=df)"
      ],
      "execution_count": null,
      "outputs": []
    }
  ]
}