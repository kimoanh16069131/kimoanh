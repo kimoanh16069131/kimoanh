{
  "nbformat": 4,
  "nbformat_minor": 0,
  "metadata": {
    "colab": {
      "name": "baitap4.ipynb",
      "provenance": [],
      "collapsed_sections": [],
      "include_colab_link": true
    },
    "kernelspec": {
      "display_name": "Python 3",
      "name": "python3"
    }
  },
  "cells": [
    {
      "cell_type": "markdown",
      "metadata": {
        "id": "view-in-github",
        "colab_type": "text"
      },
      "source": [
        "<a href=\"https://colab.research.google.com/github/kimoanh16069131/kimoanh/blob/master/baitap4.ipynb\" target=\"_parent\"><img src=\"https://colab.research.google.com/assets/colab-badge.svg\" alt=\"Open In Colab\"/></a>"
      ]
    },
    {
      "cell_type": "code",
      "metadata": {
        "id": "_THvl3p6m2HM",
        "colab": {
          "base_uri": "https://localhost:8080/"
        },
        "outputId": "179dc371-be48-4fa1-8339-a3c9215d43e0"
      },
      "source": [
        "%reload_ext rpy2.ipython"
      ],
      "execution_count": 1,
      "outputs": [
        {
          "output_type": "stream",
          "text": [
            "/usr/local/lib/python3.6/dist-packages/rpy2/robjects/pandas2ri.py:14: FutureWarning: pandas.core.index is deprecated and will be removed in a future version.  The public classes are available in the top-level namespace.\n",
            "  from pandas.core.index import Index as PandasIndex\n",
            "/usr/local/lib/python3.6/dist-packages/rpy2/robjects/pandas2ri.py:34: UserWarning: pandas >= 1.0 is not supported.\n",
            "  warnings.warn('pandas >= 1.0 is not supported.')\n"
          ],
          "name": "stderr"
        }
      ]
    },
    {
      "cell_type": "code",
      "metadata": {
        "id": "8VTvB6yEnjF4",
        "colab": {
          "base_uri": "https://localhost:8080/"
        },
        "outputId": "d62e1940-c32e-443c-a2de-35ca524af165"
      },
      "source": [
        "%%R\n",
        "library(readr) #read in the data\n",
        "library(ggplot2)\n",
        "#install.packages(\"ggplot2\")\n",
        "#install.packages(\"corrplot\")\n",
        "#install.packages(\"ggcorrplot\")\n",
        "library(corrplot) #visualization of correlation\n",
        "library(ggcorrplot) #visualization of correlation\n",
        "library(reshape2) #melt function\n",
        "library(dplyr) #used for data transformations\n",
        "library(tidyverse) #used for data transformations\n",
        "insurance <- read_csv(file = \"insurance.csv\")"
      ],
      "execution_count": 2,
      "outputs": [
        {
          "output_type": "stream",
          "text": [
            "R[write to console]: Error in library(corrplot) : there is no package called ‘corrplot’\n",
            "Calls: <Anonymous> -> <Anonymous> -> withVisible -> library\n",
            "\n"
          ],
          "name": "stderr"
        },
        {
          "output_type": "stream",
          "text": [
            "\n",
            "Error in library(corrplot) : there is no package called ‘corrplot’\n",
            "Calls: <Anonymous> -> <Anonymous> -> withVisible -> library\n"
          ],
          "name": "stdout"
        }
      ]
    },
    {
      "cell_type": "code",
      "metadata": {
        "id": "TCVhRUqaoif9",
        "colab": {
          "base_uri": "https://localhost:8080/"
        },
        "outputId": "8607e846-3971-42ca-fc3e-4f130e78afbd"
      },
      "source": [
        "%%R\n",
        "summary(insurance)"
      ],
      "execution_count": 3,
      "outputs": [
        {
          "output_type": "stream",
          "text": [
            "R[write to console]: Error in summary(insurance) : object 'insurance' not found\n",
            "Calls: <Anonymous> -> <Anonymous> -> withVisible -> summary\n",
            "\n"
          ],
          "name": "stderr"
        },
        {
          "output_type": "stream",
          "text": [
            "\n",
            "Error in summary(insurance) : object 'insurance' not found\n",
            "Calls: <Anonymous> -> <Anonymous> -> withVisible -> summary\n"
          ],
          "name": "stdout"
        }
      ]
    },
    {
      "cell_type": "code",
      "metadata": {
        "id": "dhXYUnp0ompl",
        "colab": {
          "base_uri": "https://localhost:8080/"
        },
        "outputId": "6341e9e0-76cf-44e6-a603-413943c09175"
      },
      "source": [
        "%%R\n",
        "ggplot(data = melt(insurance[, -6]), mapping = aes(x = value)) + \n",
        "  geom_histogram(bins = 10) + facet_wrap(~variable, scales = \"free_x\")\n",
        "\n"
      ],
      "execution_count": 4,
      "outputs": [
        {
          "output_type": "stream",
          "text": [
            "R[write to console]: Error in melt(insurance[, -6]) : could not find function \"melt\"\n",
            "Calls: <Anonymous> -> <Anonymous> -> withVisible -> ggplot\n",
            "\n"
          ],
          "name": "stderr"
        },
        {
          "output_type": "stream",
          "text": [
            "\n",
            "Error in melt(insurance[, -6]) : could not find function \"melt\"\n",
            "Calls: <Anonymous> -> <Anonymous> -> withVisible -> ggplot\n"
          ],
          "name": "stdout"
        }
      ]
    },
    {
      "cell_type": "code",
      "metadata": {
        "id": "y6C_M7WYow5U",
        "colab": {
          "base_uri": "https://localhost:8080/"
        },
        "outputId": "2a6b2313-2474-4cd0-efd7-c86102a13a0d"
      },
      "source": [
        "%%R\n",
        "ggplot(data = insurance) +\n",
        "geom_bar(mapping = aes(x = as.factor(sex)))\n"
      ],
      "execution_count": 5,
      "outputs": [
        {
          "output_type": "stream",
          "text": [
            "R[write to console]: Error in ggplot(data = insurance) : object 'insurance' not found\n",
            "Calls: <Anonymous> -> <Anonymous> -> withVisible -> ggplot\n",
            "\n"
          ],
          "name": "stderr"
        },
        {
          "output_type": "stream",
          "text": [
            "\n",
            "Error in ggplot(data = insurance) : object 'insurance' not found\n",
            "Calls: <Anonymous> -> <Anonymous> -> withVisible -> ggplot\n"
          ],
          "name": "stdout"
        }
      ]
    },
    {
      "cell_type": "code",
      "metadata": {
        "id": "seWhF6_No1kt",
        "colab": {
          "base_uri": "https://localhost:8080/"
        },
        "outputId": "7e639b17-5b48-4591-a80d-87da8dcbe1ed"
      },
      "source": [
        "%%R\n",
        "ggplot(data = insurance) + \n",
        "geom_bar(mapping = aes(x = smoker))\n"
      ],
      "execution_count": 6,
      "outputs": [
        {
          "output_type": "stream",
          "text": [
            "R[write to console]: Error in ggplot(data = insurance) : object 'insurance' not found\n",
            "Calls: <Anonymous> -> <Anonymous> -> withVisible -> ggplot\n",
            "\n"
          ],
          "name": "stderr"
        },
        {
          "output_type": "stream",
          "text": [
            "\n",
            "Error in ggplot(data = insurance) : object 'insurance' not found\n",
            "Calls: <Anonymous> -> <Anonymous> -> withVisible -> ggplot\n"
          ],
          "name": "stdout"
        }
      ]
    },
    {
      "cell_type": "code",
      "metadata": {
        "id": "27BlsLnCo4pd",
        "colab": {
          "base_uri": "https://localhost:8080/"
        },
        "outputId": "e3330b46-ad89-4546-b765-d11ef8a9d0d5"
      },
      "source": [
        "%%R\n",
        "ggplot(data = insurance) + \n",
        "geom_bar(mapping = aes(x= region))"
      ],
      "execution_count": 7,
      "outputs": [
        {
          "output_type": "stream",
          "text": [
            "R[write to console]: Error in ggplot(data = insurance) : object 'insurance' not found\n",
            "Calls: <Anonymous> -> <Anonymous> -> withVisible -> ggplot\n",
            "\n"
          ],
          "name": "stderr"
        },
        {
          "output_type": "stream",
          "text": [
            "\n",
            "Error in ggplot(data = insurance) : object 'insurance' not found\n",
            "Calls: <Anonymous> -> <Anonymous> -> withVisible -> ggplot\n"
          ],
          "name": "stdout"
        }
      ]
    },
    {
      "cell_type": "code",
      "metadata": {
        "id": "i_nE9ET4pC9F",
        "colab": {
          "base_uri": "https://localhost:8080/"
        },
        "outputId": "ba25e880-4927-4b6e-bb28-e873b7952e77"
      },
      "source": [
        "%%R\n",
        "insurance %>%\n",
        "  ggplot(aes(x=smoker, y = charges)) +\n",
        "  geom_boxplot() + #smokers associated with ~$30,000 higher mean charge amount\n",
        "  ggtitle(\"Charges for Smokers vs Non-Smokers\")"
      ],
      "execution_count": 8,
      "outputs": [
        {
          "output_type": "stream",
          "text": [
            "R[write to console]: Error in insurance %>% ggplot(aes(x = smoker, y = charges)) : \n",
            "  could not find function \"%>%\"\n",
            "Calls: <Anonymous> -> <Anonymous> -> withVisible\n",
            "\n"
          ],
          "name": "stderr"
        },
        {
          "output_type": "stream",
          "text": [
            "\n",
            "Error in insurance %>% ggplot(aes(x = smoker, y = charges)) : \n",
            "  could not find function \"%>%\"\n",
            "Calls: <Anonymous> -> <Anonymous> -> withVisible\n"
          ],
          "name": "stdout"
        }
      ]
    },
    {
      "cell_type": "code",
      "metadata": {
        "id": "B1CH4D_LpIfV",
        "colab": {
          "base_uri": "https://localhost:8080/"
        },
        "outputId": "8f9595c7-3644-4e3f-b354-3cc53770c38d"
      },
      "source": [
        "%%R\n",
        "insurance %>%\n",
        "  ggplot(aes(x=age, y = charges)) + \n",
        "  geom_point(aes(color = smoker)) + \n",
        "  ggtitle(\"Charges vs Age\")"
      ],
      "execution_count": 9,
      "outputs": [
        {
          "output_type": "stream",
          "text": [
            "R[write to console]: Error in insurance %>% ggplot(aes(x = age, y = charges)) : \n",
            "  could not find function \"%>%\"\n",
            "Calls: <Anonymous> -> <Anonymous> -> withVisible\n",
            "\n"
          ],
          "name": "stderr"
        },
        {
          "output_type": "stream",
          "text": [
            "\n",
            "Error in insurance %>% ggplot(aes(x = age, y = charges)) : \n",
            "  could not find function \"%>%\"\n",
            "Calls: <Anonymous> -> <Anonymous> -> withVisible\n"
          ],
          "name": "stdout"
        }
      ]
    },
    {
      "cell_type": "code",
      "metadata": {
        "id": "DHWAqGXzpNkd",
        "colab": {
          "base_uri": "https://localhost:8080/"
        },
        "outputId": "27e4ee29-d357-4192-dbec-1dc268dff353"
      },
      "source": [
        "%%R\n",
        "insurance %>%\n",
        "  ggplot(aes(x=age, y = charges)) + \n",
        "  geom_point(aes(color = smoker, size = bmi, alpha = .05)) + \n",
        "  ggtitle(\"Charges vs Age\")"
      ],
      "execution_count": 10,
      "outputs": [
        {
          "output_type": "stream",
          "text": [
            "R[write to console]: Error in insurance %>% ggplot(aes(x = age, y = charges)) : \n",
            "  could not find function \"%>%\"\n",
            "Calls: <Anonymous> -> <Anonymous> -> withVisible\n",
            "\n"
          ],
          "name": "stderr"
        },
        {
          "output_type": "stream",
          "text": [
            "\n",
            "Error in insurance %>% ggplot(aes(x = age, y = charges)) : \n",
            "  could not find function \"%>%\"\n",
            "Calls: <Anonymous> -> <Anonymous> -> withVisible\n"
          ],
          "name": "stdout"
        }
      ]
    },
    {
      "cell_type": "code",
      "metadata": {
        "id": "YMRuJw8cpTst",
        "colab": {
          "base_uri": "https://localhost:8080/"
        },
        "outputId": "9b5117db-abbd-4c98-9178-357fdee9fee0"
      },
      "source": [
        "%%R\n",
        "insurance %>%\n",
        "  ggplot(aes(x=as.factor(children), y = charges)) + \n",
        "  geom_boxplot() + \n",
        "  ggtitle(\"Charges vs Number of Children\")"
      ],
      "execution_count": 11,
      "outputs": [
        {
          "output_type": "stream",
          "text": [
            "R[write to console]: Error in insurance %>% ggplot(aes(x = as.factor(children), y = charges)) : \n",
            "  could not find function \"%>%\"\n",
            "Calls: <Anonymous> -> <Anonymous> -> withVisible\n",
            "\n"
          ],
          "name": "stderr"
        },
        {
          "output_type": "stream",
          "text": [
            "\n",
            "Error in insurance %>% ggplot(aes(x = as.factor(children), y = charges)) : \n",
            "  could not find function \"%>%\"\n",
            "Calls: <Anonymous> -> <Anonymous> -> withVisible\n"
          ],
          "name": "stdout"
        }
      ]
    },
    {
      "cell_type": "code",
      "metadata": {
        "id": "ajgCbcfjpZGl",
        "colab": {
          "base_uri": "https://localhost:8080/"
        },
        "outputId": "490a2af2-b407-4f28-fd8d-e4f58aec9a8c"
      },
      "source": [
        "%%R\n",
        "insurance %>%\n",
        "  ggplot(aes(x= sex, y = charges)) + \n",
        "  geom_boxplot() + \n",
        "  ggtitle(\"Charges for Males vs Females\")"
      ],
      "execution_count": 12,
      "outputs": [
        {
          "output_type": "stream",
          "text": [
            "R[write to console]: Error in insurance %>% ggplot(aes(x = sex, y = charges)) : \n",
            "  could not find function \"%>%\"\n",
            "Calls: <Anonymous> -> <Anonymous> -> withVisible\n",
            "\n"
          ],
          "name": "stderr"
        },
        {
          "output_type": "stream",
          "text": [
            "\n",
            "Error in insurance %>% ggplot(aes(x = sex, y = charges)) : \n",
            "  could not find function \"%>%\"\n",
            "Calls: <Anonymous> -> <Anonymous> -> withVisible\n"
          ],
          "name": "stdout"
        }
      ]
    },
    {
      "cell_type": "code",
      "metadata": {
        "id": "J2JitfY7pfMk",
        "colab": {
          "base_uri": "https://localhost:8080/"
        },
        "outputId": "1913920b-573a-4b3b-e15b-951081a838a2"
      },
      "source": [
        "%%R\n",
        "insurance <- insurance %>%\n",
        "mutate(obese = ifelse(bmi >= 30, \"yes\", \"no\"))\n",
        "head(insurance)\n",
        "averageCharges <- insurance %>%\n",
        "  group_by(smoker, obese) %>%\n",
        "  summarise(\n",
        "    count = n(),\n",
        "    average_charge = mean(charges, na.rm = TRUE), \n",
        "    stdev_charge = sd(charges, na.rm = TRUE)\n",
        "  )\n",
        "print(averageCharges)"
      ],
      "execution_count": 13,
      "outputs": [
        {
          "output_type": "stream",
          "text": [
            "R[write to console]: Error in insurance %>% mutate(obese = ifelse(bmi >= 30, \"yes\", \"no\")) : \n",
            "  could not find function \"%>%\"\n",
            "Calls: <Anonymous> -> <Anonymous> -> withVisible\n",
            "\n"
          ],
          "name": "stderr"
        },
        {
          "output_type": "stream",
          "text": [
            "\n",
            "Error in insurance %>% mutate(obese = ifelse(bmi >= 30, \"yes\", \"no\")) : \n",
            "  could not find function \"%>%\"\n",
            "Calls: <Anonymous> -> <Anonymous> -> withVisible\n"
          ],
          "name": "stdout"
        }
      ]
    },
    {
      "cell_type": "code",
      "metadata": {
        "id": "Bbho5O4ipq4l",
        "colab": {
          "base_uri": "https://localhost:8080/"
        },
        "outputId": "93baae30-9945-4e8a-f788-58250ac26cb9"
      },
      "source": [
        "%%R\n",
        "insurance$obese <- as.factor(insurance$obese)\n",
        "insurance$smoker <- as.factor(insurance$smoker)\n",
        "insurance$sex <- as.factor(insurance$sex)\n",
        "insurance$region <- as.factor(insurance$region)\n",
        "\n",
        "set.seed(134) \n",
        "sampleSize <- floor(.75*nrow(insurance))\n",
        "trainIndexes <- sample(seq_len(nrow(insurance)), sampleSize, replace = FALSE) \n",
        "train <- insurance[trainIndexes, ]\n",
        "test <- insurance[-trainIndexes, ]\n"
      ],
      "execution_count": 14,
      "outputs": [
        {
          "output_type": "stream",
          "text": [
            "R[write to console]: Error in is.factor(x) : object 'insurance' not found\n",
            "Calls: <Anonymous> ... <Anonymous> -> withVisible -> as.factor -> is.factor\n",
            "\n"
          ],
          "name": "stderr"
        },
        {
          "output_type": "stream",
          "text": [
            "\n",
            "Error in is.factor(x) : object 'insurance' not found\n",
            "Calls: <Anonymous> ... <Anonymous> -> withVisible -> as.factor -> is.factor\n"
          ],
          "name": "stdout"
        }
      ]
    },
    {
      "cell_type": "code",
      "metadata": {
        "id": "HfN0jFYNpyoN",
        "colab": {
          "base_uri": "https://localhost:8080/"
        },
        "outputId": "05137c20-06cd-46ee-fde9-e4e37276a395"
      },
      "source": [
        "%%R\n",
        "par(mfrow = c(2,2))\n",
        "lm.fit.m.1 <- lm(charges ~ . - bmi, data = train)\n",
        "summary(lm.fit.m.1)\n",
        "plot(lm.fit.m.1)"
      ],
      "execution_count": 15,
      "outputs": [
        {
          "output_type": "stream",
          "text": [
            "R[write to console]: Error in is.data.frame(data) : object 'train' not found\n",
            "Calls: <Anonymous> ... <Anonymous> -> model.frame.default -> is.data.frame\n",
            "\n"
          ],
          "name": "stderr"
        },
        {
          "output_type": "stream",
          "text": [
            "\n",
            "Error in is.data.frame(data) : object 'train' not found\n",
            "Calls: <Anonymous> ... <Anonymous> -> model.frame.default -> is.data.frame\n"
          ],
          "name": "stdout"
        }
      ]
    },
    {
      "cell_type": "code",
      "metadata": {
        "id": "4vmmQNZhp2MG",
        "colab": {
          "base_uri": "https://localhost:8080/"
        },
        "outputId": "7a1a5656-bbc8-4b3d-fae2-f3efcde4ef74"
      },
      "source": [
        "%%R\n",
        "par(mfrow = c(2,2))\n",
        "lm.fit.m.2 <- lm(charges ~ . - bmi - sex - region, data = train)\n",
        "summary(lm.fit.m.2)\n",
        "plot(lm.fit.m.2)"
      ],
      "execution_count": 16,
      "outputs": [
        {
          "output_type": "stream",
          "text": [
            "R[write to console]: Error in is.data.frame(data) : object 'train' not found\n",
            "Calls: <Anonymous> ... <Anonymous> -> model.frame.default -> is.data.frame\n",
            "\n"
          ],
          "name": "stderr"
        },
        {
          "output_type": "stream",
          "text": [
            "\n",
            "Error in is.data.frame(data) : object 'train' not found\n",
            "Calls: <Anonymous> ... <Anonymous> -> model.frame.default -> is.data.frame\n"
          ],
          "name": "stdout"
        }
      ]
    },
    {
      "cell_type": "code",
      "metadata": {
        "id": "yOrke5zHp6h1",
        "colab": {
          "base_uri": "https://localhost:8080/"
        },
        "outputId": "5023af67-f799-49cd-bfbb-4a55363c917c"
      },
      "source": [
        "%%R\n",
        "par(mfrow = c(2,2))\n",
        "lm.fit.m.3 <- lm(charges ~ obese*smoker + age + children, data = train)\n",
        "summary(lm.fit.m.3)\n",
        "plot(lm.fit.m.3)"
      ],
      "execution_count": 17,
      "outputs": [
        {
          "output_type": "stream",
          "text": [
            "R[write to console]: Error in is.data.frame(data) : object 'train' not found\n",
            "Calls: <Anonymous> ... <Anonymous> -> model.frame.default -> is.data.frame\n",
            "\n"
          ],
          "name": "stderr"
        },
        {
          "output_type": "stream",
          "text": [
            "\n",
            "Error in is.data.frame(data) : object 'train' not found\n",
            "Calls: <Anonymous> ... <Anonymous> -> model.frame.default -> is.data.frame\n"
          ],
          "name": "stdout"
        }
      ]
    },
    {
      "cell_type": "code",
      "metadata": {
        "id": "C9YrU4F8qF2O",
        "colab": {
          "base_uri": "https://localhost:8080/"
        },
        "outputId": "9c2b2f0a-ce12-48f0-a76e-2c3454cce3f5"
      },
      "source": [
        "%%R\n",
        "par(mfrow = c(2,2))\n",
        "lm.fit.m.4 <- lm(charges ~ obese*smoker + age, data = train)\n",
        "summary(lm.fit.m.4) \n",
        "plot(lm.fit.m.4)"
      ],
      "execution_count": 18,
      "outputs": [
        {
          "output_type": "stream",
          "text": [
            "R[write to console]: Error in is.data.frame(data) : object 'train' not found\n",
            "Calls: <Anonymous> ... <Anonymous> -> model.frame.default -> is.data.frame\n",
            "\n"
          ],
          "name": "stderr"
        },
        {
          "output_type": "stream",
          "text": [
            "\n",
            "Error in is.data.frame(data) : object 'train' not found\n",
            "Calls: <Anonymous> ... <Anonymous> -> model.frame.default -> is.data.frame\n"
          ],
          "name": "stdout"
        }
      ]
    },
    {
      "cell_type": "code",
      "metadata": {
        "id": "5YHLrDEHqPmO",
        "colab": {
          "base_uri": "https://localhost:8080/"
        },
        "outputId": "1241fb87-08e3-4dff-faf5-f83f5edb07ae"
      },
      "source": [
        "%%R\n",
        "test$predicted <- predict(lm.fit.m.4, newdata = test)\n",
        "test %>%\n",
        "  ggplot() +\n",
        "  geom_point(aes(x = predicted, y = charges, color = smoker, shape = obese)) +\n",
        "  geom_abline(color = \"red\") +\n",
        "  ggtitle(\"Prediction vs. Real Values\")"
      ],
      "execution_count": 19,
      "outputs": [
        {
          "output_type": "stream",
          "text": [
            "R[write to console]: Error in predict(lm.fit.m.4, newdata = test) : \n",
            "  object 'lm.fit.m.4' not found\n",
            "Calls: <Anonymous> -> <Anonymous> -> withVisible -> predict\n",
            "\n"
          ],
          "name": "stderr"
        },
        {
          "output_type": "stream",
          "text": [
            "\n",
            "Error in predict(lm.fit.m.4, newdata = test) : \n",
            "  object 'lm.fit.m.4' not found\n",
            "Calls: <Anonymous> -> <Anonymous> -> withVisible -> predict\n"
          ],
          "name": "stdout"
        }
      ]
    },
    {
      "cell_type": "code",
      "metadata": {
        "id": "Ns8NZi9OqTZf",
        "colab": {
          "base_uri": "https://localhost:8080/"
        },
        "outputId": "c53c620b-988f-4efb-f469-541d3c53bb8a"
      },
      "source": [
        "%%R\n",
        "test$residuals <- test$charges - test$predicted\n",
        "\n",
        "test %>%\n",
        "  ggplot() +\n",
        "  geom_pointrange(aes(x=predicted, y=residuals, ymin = 0, ymax = residuals, color = smoker, shape = obese)) +\n",
        "  geom_hline(yintercept = 0) +\n",
        "ggtitle(\"Residuals vs. Fitted Values\")"
      ],
      "execution_count": 20,
      "outputs": [
        {
          "output_type": "stream",
          "text": [
            "R[write to console]: Error in withVisible({ : object 'test' not found\n",
            "Calls: <Anonymous> -> <Anonymous> -> withVisible\n",
            "\n"
          ],
          "name": "stderr"
        },
        {
          "output_type": "stream",
          "text": [
            "\n",
            "Error in withVisible({ : object 'test' not found\n",
            "Calls: <Anonymous> -> <Anonymous> -> withVisible\n"
          ],
          "name": "stdout"
        }
      ]
    }
  ]
}