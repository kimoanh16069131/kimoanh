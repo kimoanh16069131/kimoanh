{
  "nbformat": 4,
  "nbformat_minor": 0,
  "metadata": {
    "colab": {
      "name": "tuan7-TH4d.ipynb",
      "provenance": [],
      "collapsed_sections": [],
      "include_colab_link": true
    },
    "kernelspec": {
      "name": "python3",
      "display_name": "Python 3"
    }
  },
  "cells": [
    {
      "cell_type": "markdown",
      "metadata": {
        "id": "view-in-github",
        "colab_type": "text"
      },
      "source": [
        "<a href=\"https://colab.research.google.com/github/kimoanh16069131/kimoanh/blob/master/tuan7_TH4d.ipynb\" target=\"_parent\"><img src=\"https://colab.research.google.com/assets/colab-badge.svg\" alt=\"Open In Colab\"/></a>"
      ]
    },
    {
      "cell_type": "code",
      "metadata": {
        "id": "LCm-Mu9Ws_gY"
      },
      "source": [
        "import math\n",
        "import statistics\n",
        "import numpy as np\n",
        "import scipy.stats\n",
        "import pandas as pd"
      ],
      "execution_count": 1,
      "outputs": []
    },
    {
      "cell_type": "code",
      "metadata": {
        "id": "gM-vsH0FtY6K",
        "colab": {
          "base_uri": "https://localhost:8080/"
        },
        "outputId": "e7131d6d-1e92-4c0a-9ff0-a41524b3a3ad"
      },
      "source": [
        "x = [8.0, 1, 2.5, 4, 28.0]\n",
        "x_with_nan = [8.0, 1, 2.5, math.nan, 4, 28.0]\n",
        "x_with_nan"
      ],
      "execution_count": 2,
      "outputs": [
        {
          "output_type": "execute_result",
          "data": {
            "text/plain": [
              "[8.0, 1, 2.5, nan, 4, 28.0]"
            ]
          },
          "metadata": {
            "tags": []
          },
          "execution_count": 2
        }
      ]
    },
    {
      "cell_type": "code",
      "metadata": {
        "id": "ENXZpBnbtzZ3",
        "colab": {
          "base_uri": "https://localhost:8080/"
        },
        "outputId": "79f3ebae-df24-4299-fb7a-45dfbf486339"
      },
      "source": [
        "x"
      ],
      "execution_count": 3,
      "outputs": [
        {
          "output_type": "execute_result",
          "data": {
            "text/plain": [
              "[8.0, 1, 2.5, 4, 28.0]"
            ]
          },
          "metadata": {
            "tags": []
          },
          "execution_count": 3
        }
      ]
    },
    {
      "cell_type": "code",
      "metadata": {
        "id": "5rAdMr6Kt08n",
        "colab": {
          "base_uri": "https://localhost:8080/"
        },
        "outputId": "84199357-f007-4e26-8dbe-bf2cebbd4b32"
      },
      "source": [
        "math.isnan(np.nan), np.isnan(math.nan)"
      ],
      "execution_count": 4,
      "outputs": [
        {
          "output_type": "execute_result",
          "data": {
            "text/plain": [
              "(True, True)"
            ]
          },
          "metadata": {
            "tags": []
          },
          "execution_count": 4
        }
      ]
    },
    {
      "cell_type": "code",
      "metadata": {
        "id": "gcwJ6J_5t2lP",
        "colab": {
          "base_uri": "https://localhost:8080/"
        },
        "outputId": "311a6d0b-3ac3-4035-8ab9-e12b82ce9d2a"
      },
      "source": [
        "y, y_with_nan = np.array(x), np.array(x_with_nan)\n",
        "z, z_with_nan = pd.Series(x), pd.Series(x_with_nan)\n",
        "y"
      ],
      "execution_count": 5,
      "outputs": [
        {
          "output_type": "execute_result",
          "data": {
            "text/plain": [
              "array([ 8. ,  1. ,  2.5,  4. , 28. ])"
            ]
          },
          "metadata": {
            "tags": []
          },
          "execution_count": 5
        }
      ]
    },
    {
      "cell_type": "code",
      "metadata": {
        "id": "RqNwtcN5t60X",
        "colab": {
          "base_uri": "https://localhost:8080/"
        },
        "outputId": "6a4d923e-681f-4871-d333-d86ee8152e5c"
      },
      "source": [
        "y_with_nan\n"
      ],
      "execution_count": 6,
      "outputs": [
        {
          "output_type": "execute_result",
          "data": {
            "text/plain": [
              "array([ 8. ,  1. ,  2.5,  nan,  4. , 28. ])"
            ]
          },
          "metadata": {
            "tags": []
          },
          "execution_count": 6
        }
      ]
    },
    {
      "cell_type": "code",
      "metadata": {
        "id": "FSZT5-g-t8in",
        "colab": {
          "base_uri": "https://localhost:8080/"
        },
        "outputId": "dab19756-b1ec-4c8c-e068-4ffb2ca5fa35"
      },
      "source": [
        "z"
      ],
      "execution_count": 7,
      "outputs": [
        {
          "output_type": "execute_result",
          "data": {
            "text/plain": [
              "0     8.0\n",
              "1     1.0\n",
              "2     2.5\n",
              "3     4.0\n",
              "4    28.0\n",
              "dtype: float64"
            ]
          },
          "metadata": {
            "tags": []
          },
          "execution_count": 7
        }
      ]
    },
    {
      "cell_type": "code",
      "metadata": {
        "id": "jRJkodprt98H",
        "colab": {
          "base_uri": "https://localhost:8080/"
        },
        "outputId": "4aaf3f5f-1d49-47d9-8d03-7758a5c89f32"
      },
      "source": [
        "z_with_nan"
      ],
      "execution_count": 8,
      "outputs": [
        {
          "output_type": "execute_result",
          "data": {
            "text/plain": [
              "0     8.0\n",
              "1     1.0\n",
              "2     2.5\n",
              "3     NaN\n",
              "4     4.0\n",
              "5    28.0\n",
              "dtype: float64"
            ]
          },
          "metadata": {
            "tags": []
          },
          "execution_count": 8
        }
      ]
    },
    {
      "cell_type": "code",
      "metadata": {
        "id": "D0YPETVFt_pe",
        "colab": {
          "base_uri": "https://localhost:8080/"
        },
        "outputId": "8f3b1e83-c683-4e1d-b0cd-fd344a7ef503"
      },
      "source": [
        "math.isnan(y_with_nan[3]), np.isnan(y_with_nan[3])"
      ],
      "execution_count": 9,
      "outputs": [
        {
          "output_type": "execute_result",
          "data": {
            "text/plain": [
              "(True, True)"
            ]
          },
          "metadata": {
            "tags": []
          },
          "execution_count": 9
        }
      ]
    },
    {
      "cell_type": "code",
      "metadata": {
        "id": "t2rKAyNcuA4n",
        "colab": {
          "base_uri": "https://localhost:8080/"
        },
        "outputId": "ffa6c977-4e7c-406d-8026-a07222952917"
      },
      "source": [
        "mean_ = sum(x) / len(x)\n",
        "mean_"
      ],
      "execution_count": 10,
      "outputs": [
        {
          "output_type": "execute_result",
          "data": {
            "text/plain": [
              "8.7"
            ]
          },
          "metadata": {
            "tags": []
          },
          "execution_count": 10
        }
      ]
    },
    {
      "cell_type": "code",
      "metadata": {
        "id": "MgEUkXhLuB6g",
        "colab": {
          "base_uri": "https://localhost:8080/"
        },
        "outputId": "7cf586fb-5ea1-4752-c7e4-d729de012033"
      },
      "source": [
        "mean_ = statistics.mean(x)\n",
        "mean_"
      ],
      "execution_count": 11,
      "outputs": [
        {
          "output_type": "execute_result",
          "data": {
            "text/plain": [
              "8.7"
            ]
          },
          "metadata": {
            "tags": []
          },
          "execution_count": 11
        }
      ]
    },
    {
      "cell_type": "code",
      "metadata": {
        "id": "XesXIRmquFMn",
        "colab": {
          "base_uri": "https://localhost:8080/",
          "height": 167
        },
        "outputId": "d15bca9f-48e6-45f8-843e-ea992e4e4e84"
      },
      "source": [
        "mean_ = statistics.fmean(x) #KHONG HO TRO FMEAN\n"
      ],
      "execution_count": 12,
      "outputs": [
        {
          "output_type": "error",
          "ename": "AttributeError",
          "evalue": "ignored",
          "traceback": [
            "\u001b[0;31m---------------------------------------------------------------------------\u001b[0m",
            "\u001b[0;31mAttributeError\u001b[0m                            Traceback (most recent call last)",
            "\u001b[0;32m<ipython-input-12-ae1d7f4ad2b1>\u001b[0m in \u001b[0;36m<module>\u001b[0;34m()\u001b[0m\n\u001b[0;32m----> 1\u001b[0;31m \u001b[0mmean_\u001b[0m \u001b[0;34m=\u001b[0m \u001b[0mstatistics\u001b[0m\u001b[0;34m.\u001b[0m\u001b[0mfmean\u001b[0m\u001b[0;34m(\u001b[0m\u001b[0mx\u001b[0m\u001b[0;34m)\u001b[0m \u001b[0;31m#KHONG HO TRO FMEAN\u001b[0m\u001b[0;34m\u001b[0m\u001b[0;34m\u001b[0m\u001b[0m\n\u001b[0m",
            "\u001b[0;31mAttributeError\u001b[0m: module 'statistics' has no attribute 'fmean'"
          ]
        }
      ]
    },
    {
      "cell_type": "code",
      "metadata": {
        "id": "uLCVmBkWuMVo"
      },
      "source": [
        "mean_ = statistics.mean(x_with_nan)\n",
        "mean_\n"
      ],
      "execution_count": null,
      "outputs": []
    },
    {
      "cell_type": "code",
      "metadata": {
        "id": "yS2T25DpuOxp"
      },
      "source": [
        "mean_ = np.mean(y)\n",
        "mean_"
      ],
      "execution_count": null,
      "outputs": []
    },
    {
      "cell_type": "code",
      "metadata": {
        "id": "bsf7v2bMuR_H"
      },
      "source": [
        "mean_ = y.mean()\n",
        "mean_\n"
      ],
      "execution_count": null,
      "outputs": []
    },
    {
      "cell_type": "code",
      "metadata": {
        "id": "e8ruSIrtuUKv"
      },
      "source": [
        "np.nanmean(y_with_nan)"
      ],
      "execution_count": null,
      "outputs": []
    },
    {
      "cell_type": "code",
      "metadata": {
        "id": "sPDDak38uVqx"
      },
      "source": [
        "mean_ = z.mean()\n",
        "mean_\n"
      ],
      "execution_count": null,
      "outputs": []
    },
    {
      "cell_type": "code",
      "metadata": {
        "id": "rbq-YEQ6uW9f"
      },
      "source": [
        "z_with_nan.mean()"
      ],
      "execution_count": null,
      "outputs": []
    },
    {
      "cell_type": "code",
      "metadata": {
        "id": "W29bSyEpuYAn"
      },
      "source": [
        "0.2 * 2 + 0.5 * 4 + 0.3 * 8\n"
      ],
      "execution_count": null,
      "outputs": []
    },
    {
      "cell_type": "code",
      "metadata": {
        "id": "JFCn4w3-uZvX"
      },
      "source": [
        "x = [8.0, 1, 2.5, 4, 28.0]"
      ],
      "execution_count": null,
      "outputs": []
    },
    {
      "cell_type": "code",
      "metadata": {
        "id": "OB9uXWQouavR"
      },
      "source": [
        "w = [0.1, 0.2, 0.3, 0.25, 0.15]"
      ],
      "execution_count": null,
      "outputs": []
    },
    {
      "cell_type": "code",
      "metadata": {
        "id": "r_ReLZnzucVA"
      },
      "source": [
        "wmean = sum(w[i] * x[i] for i in range(len(x))) / sum(w)\n",
        "wmean"
      ],
      "execution_count": null,
      "outputs": []
    },
    {
      "cell_type": "code",
      "metadata": {
        "id": "cmO-8umbudwR"
      },
      "source": [
        "wmean = sum(x_ * w_ for (x_, w_) in zip(x, w)) / sum(w)\n",
        "wmean\n"
      ],
      "execution_count": null,
      "outputs": []
    },
    {
      "cell_type": "code",
      "metadata": {
        "id": "uY_vsvhSufUR"
      },
      "source": [
        "y, z, w = np.array(x), pd.Series(x), np.array(w)\n",
        "wmean = np.average(y, weights=w)\n",
        "wmean"
      ],
      "execution_count": null,
      "outputs": []
    },
    {
      "cell_type": "code",
      "metadata": {
        "id": "74Jk38stugk3"
      },
      "source": [
        "wmean = np.average(z, weights=w)\n",
        "wmean"
      ],
      "execution_count": null,
      "outputs": []
    },
    {
      "cell_type": "code",
      "metadata": {
        "id": "efcJCvE5uh5Y"
      },
      "source": [
        "(w * y).sum() / w.sum()"
      ],
      "execution_count": null,
      "outputs": []
    },
    {
      "cell_type": "code",
      "metadata": {
        "id": "6S5XuuDJujyP"
      },
      "source": [
        "w = np.array([0.1, 0.2, 0.3, 0.0, 0.2, 0.1])\n",
        "(w * y_with_nan).sum() / w.sum()"
      ],
      "execution_count": null,
      "outputs": []
    },
    {
      "cell_type": "code",
      "metadata": {
        "id": "DrdHZL7LulNJ"
      },
      "source": [
        "np.average(y_with_nan, weights=w)\n"
      ],
      "execution_count": null,
      "outputs": []
    },
    {
      "cell_type": "code",
      "metadata": {
        "id": "LSzinCPYumab"
      },
      "source": [
        "np.average(z_with_nan, weights=w)"
      ],
      "execution_count": null,
      "outputs": []
    },
    {
      "cell_type": "code",
      "metadata": {
        "id": "Gvnp2TMdun0i"
      },
      "source": [
        "hmean = len(x) / sum(1 / item for item in x)\n",
        "hmean"
      ],
      "execution_count": null,
      "outputs": []
    },
    {
      "cell_type": "code",
      "metadata": {
        "id": "4TrUlIjjupzw"
      },
      "source": [
        "w = np.array([0.1, 0.2, 0.3, 0.0, 0.2, 0.1])\n",
        "(w * y_with_nan).sum() / w.sum()\n"
      ],
      "execution_count": null,
      "outputs": []
    },
    {
      "cell_type": "code",
      "metadata": {
        "id": "M3E636aeut3h"
      },
      "source": [
        "np.average(y_with_nan, weights=w)\n"
      ],
      "execution_count": null,
      "outputs": []
    },
    {
      "cell_type": "code",
      "metadata": {
        "id": "SOPE903Buu-Z"
      },
      "source": [
        "np.average(z_with_nan, weights=w)"
      ],
      "execution_count": null,
      "outputs": []
    },
    {
      "cell_type": "code",
      "metadata": {
        "id": "BTqJsfrKuwdr"
      },
      "source": [
        "hmean = len(x) / sum(1 / item for item in x)\n",
        "hmean"
      ],
      "execution_count": null,
      "outputs": []
    },
    {
      "cell_type": "code",
      "metadata": {
        "id": "25ColS3luxgS"
      },
      "source": [
        "hmean = statistics.harmonic_mean(x)\n",
        "hmean\n"
      ],
      "execution_count": null,
      "outputs": []
    },
    {
      "cell_type": "code",
      "metadata": {
        "id": "n3BreRqIuzDz"
      },
      "source": [
        "statistics.harmonic_mean(x_with_nan)"
      ],
      "execution_count": null,
      "outputs": []
    },
    {
      "cell_type": "code",
      "metadata": {
        "id": "8wEL4h-Ru0ep"
      },
      "source": [
        "statistics.harmonic_mean([1, 0, 2])"
      ],
      "execution_count": null,
      "outputs": []
    },
    {
      "cell_type": "code",
      "metadata": {
        "id": "Pq_7YkdZu1uh"
      },
      "source": [
        "statistics.harmonic_mean([1, 2, 2])"
      ],
      "execution_count": null,
      "outputs": []
    },
    {
      "cell_type": "markdown",
      "metadata": {
        "id": "vANVqWNhu4Fw"
      },
      "source": [
        "KHONG HO TRO GIA TRI AM\n"
      ]
    },
    {
      "cell_type": "code",
      "metadata": {
        "id": "aZOrjbxtu8S6"
      },
      "source": [
        "scipy.stats.hmean(z)"
      ],
      "execution_count": null,
      "outputs": []
    },
    {
      "cell_type": "code",
      "metadata": {
        "id": "3mEIEUNbu_rq"
      },
      "source": [
        "scipy.stats.hmean(y)"
      ],
      "execution_count": null,
      "outputs": []
    },
    {
      "cell_type": "code",
      "metadata": {
        "id": "pN4ZhsHPvCDo"
      },
      "source": [
        "gmean = 1\n",
        "for item in x:\n",
        "  gmean *= item\n",
        "\n",
        "gmean **= 1 / len(x)\n",
        "gmean"
      ],
      "execution_count": null,
      "outputs": []
    },
    {
      "cell_type": "code",
      "metadata": {
        "id": "6SdJpaZ9vDxw"
      },
      "source": [
        "gmean = statistics.mean(x)\n",
        "gmean\n"
      ],
      "execution_count": null,
      "outputs": []
    },
    {
      "cell_type": "code",
      "metadata": {
        "id": "PTmcRMTpvFEJ"
      },
      "source": [
        "scipy.stats.gmean(y)"
      ],
      "execution_count": null,
      "outputs": []
    },
    {
      "cell_type": "code",
      "metadata": {
        "id": "YRrDmZ_qvGLD"
      },
      "source": [
        "scipy.stats.gmean(z)"
      ],
      "execution_count": null,
      "outputs": []
    },
    {
      "cell_type": "code",
      "metadata": {
        "id": "etB7huwJvIM8"
      },
      "source": [
        "n = len(x)\n",
        "if n % 2:\n",
        "  median_ = sorted(x)[round(0.5*(n-1))]\n",
        "else:\n",
        "  x_ord, index = sorted(x), round(0.5 * n)\n",
        "  median_ = 0.5 * (x_ord[index-1] + x_ord[index])\n",
        "\n",
        "median_\n"
      ],
      "execution_count": null,
      "outputs": []
    },
    {
      "cell_type": "code",
      "metadata": {
        "id": "HMR4w1sRvJe5"
      },
      "source": [
        "median_ = statistics.median(x)\n",
        "median_"
      ],
      "execution_count": null,
      "outputs": []
    },
    {
      "cell_type": "code",
      "metadata": {
        "id": "h2woRCIEvKsS"
      },
      "source": [
        "median_ = statistics.median(x[:-1])\n",
        "median_\n"
      ],
      "execution_count": null,
      "outputs": []
    },
    {
      "cell_type": "code",
      "metadata": {
        "id": "cN8EtYS5vNJ_"
      },
      "source": [
        "statistics.median_low(x[:-1])\n"
      ],
      "execution_count": null,
      "outputs": []
    },
    {
      "cell_type": "code",
      "metadata": {
        "id": "WOneH-2SvQ9Z"
      },
      "source": [
        "statistics.median_high(x[:-1])"
      ],
      "execution_count": null,
      "outputs": []
    },
    {
      "cell_type": "code",
      "metadata": {
        "id": "HTwpra-VvTG4"
      },
      "source": [
        "statistics.median(x_with_nan)"
      ],
      "execution_count": null,
      "outputs": []
    },
    {
      "cell_type": "code",
      "metadata": {
        "id": "SnaqwQ25vUa5"
      },
      "source": [
        "statistics.median_low(x_with_nan)"
      ],
      "execution_count": null,
      "outputs": []
    },
    {
      "cell_type": "code",
      "metadata": {
        "id": "jH0YKwn_vVrp"
      },
      "source": [
        "\n",
        "statistics.median_high(x_with_nan)"
      ],
      "execution_count": null,
      "outputs": []
    },
    {
      "cell_type": "code",
      "metadata": {
        "id": "CuD57XjrvXZh"
      },
      "source": [
        "median_ = np.median(y)\n",
        "median_"
      ],
      "execution_count": null,
      "outputs": []
    },
    {
      "cell_type": "code",
      "metadata": {
        "id": "8HwRrDlsvYax"
      },
      "source": [
        "median_ = np.median(y[:-1])\n",
        "median_"
      ],
      "execution_count": null,
      "outputs": []
    },
    {
      "cell_type": "code",
      "metadata": {
        "id": "ht9wHjT0vadd"
      },
      "source": [
        "np.nanmedian(y_with_nan)"
      ],
      "execution_count": null,
      "outputs": []
    },
    {
      "cell_type": "code",
      "metadata": {
        "id": "ebkzn4Krvbej"
      },
      "source": [
        "np.nanmedian(y_with_nan[:-1])"
      ],
      "execution_count": null,
      "outputs": []
    }
  ]
}