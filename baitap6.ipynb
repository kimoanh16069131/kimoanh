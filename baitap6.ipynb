{
  "nbformat": 4,
  "nbformat_minor": 0,
  "metadata": {
    "colab": {
      "name": "baitap6.ipynb",
      "provenance": [],
      "collapsed_sections": [],
      "include_colab_link": true
    },
    "kernelspec": {
      "name": "python3",
      "display_name": "Python 3"
    }
  },
  "cells": [
    {
      "cell_type": "markdown",
      "metadata": {
        "id": "view-in-github",
        "colab_type": "text"
      },
      "source": [
        "<a href=\"https://colab.research.google.com/github/kimoanh16069131/kimoanh/blob/master/baitap6.ipynb\" target=\"_parent\"><img src=\"https://colab.research.google.com/assets/colab-badge.svg\" alt=\"Open In Colab\"/></a>"
      ]
    },
    {
      "cell_type": "code",
      "metadata": {
        "id": "VLhsUL4-yOYm",
        "colab": {
          "base_uri": "https://localhost:8080/"
        },
        "outputId": "9eaa451a-d84f-4c31-b9f7-30d25452416a"
      },
      "source": [
        "from __future__ import print_function\n",
        "import numpy as np \n",
        "\n",
        "def acc(y_true, y_pred):\n",
        "    correct = np.sum(y_true == y_pred)\n",
        "    return float(correct)/y_true.shape[0]\n",
        "\n",
        "y_true = np.array([0, 0, 0, 0, 1, 1, 1, 2, 2, 2])\n",
        "y_pred = np.array([0, 1, 0, 2, 1, 1, 0, 2, 1, 2])\n",
        "print('accuracy = ', acc(y_true, y_pred))"
      ],
      "execution_count": 1,
      "outputs": [
        {
          "output_type": "stream",
          "text": [
            "accuracy =  0.6\n"
          ],
          "name": "stdout"
        }
      ]
    },
    {
      "cell_type": "code",
      "metadata": {
        "id": "Acd1Z6mQzRgu",
        "colab": {
          "base_uri": "https://localhost:8080/"
        },
        "outputId": "6e81b292-f3dd-4293-8cf1-cf6db5b0006e"
      },
      "source": [
        "from sklearn.metrics import accuracy_score\n",
        "print('accuracy = ',accuracy_score(y_true, y_pred))"
      ],
      "execution_count": 2,
      "outputs": [
        {
          "output_type": "stream",
          "text": [
            "accuracy =  0.6\n"
          ],
          "name": "stdout"
        }
      ]
    },
    {
      "cell_type": "code",
      "metadata": {
        "id": "d0jI4JLwzX40",
        "colab": {
          "base_uri": "https://localhost:8080/"
        },
        "outputId": "11f858c5-25b8-4074-cc24-498d5f85c2a3"
      },
      "source": [
        "def my_confusion_matrix(y_true, y_pred):\n",
        "    N = np.unique(y_true).shape[0] # number of classes \n",
        "    cm = np.zeros((N, N))\n",
        "    for n in range(y_true.shape[0]):\n",
        "        cm[y_true[n], y_pred[n]] += 1\n",
        "    return cm \n",
        "\n",
        "cnf_matrix = my_confusion_matrix(y_true, y_pred)\n",
        "print('Confusion matrix:')\n",
        "print(cnf_matrix)\n",
        "print('\\nAccuracy:', np.diagonal(cnf_matrix).sum()/cnf_matrix.sum())"
      ],
      "execution_count": 3,
      "outputs": [
        {
          "output_type": "stream",
          "text": [
            "Confusion matrix:\n",
            "[[2. 1. 1.]\n",
            " [1. 2. 0.]\n",
            " [0. 1. 2.]]\n",
            "\n",
            "Accuracy: 0.6\n"
          ],
          "name": "stdout"
        }
      ]
    },
    {
      "cell_type": "code",
      "metadata": {
        "id": "CKpRvIjEzZSV",
        "colab": {
          "base_uri": "https://localhost:8080/"
        },
        "outputId": "b31d3b36-9640-4ace-99e8-425c0ad57a9e"
      },
      "source": [
        "normalized_confusion_matrix = cnf_matrix/cnf_matrix.sum(axis = 1, keepdims = True)\n",
        "print('\\nConfusion matrix (with normalizatrion:)')\n",
        "print(normalized_confusion_matrix)"
      ],
      "execution_count": 4,
      "outputs": [
        {
          "output_type": "stream",
          "text": [
            "\n",
            "Confusion matrix (with normalizatrion:)\n",
            "[[0.5        0.25       0.25      ]\n",
            " [0.33333333 0.66666667 0.        ]\n",
            " [0.         0.33333333 0.66666667]]\n"
          ],
          "name": "stdout"
        }
      ]
    },
    {
      "cell_type": "code",
      "metadata": {
        "id": "QWQzCABYzcfU",
        "colab": {
          "base_uri": "https://localhost:8080/"
        },
        "outputId": "d363f33f-37d2-4110-bee3-62f9fa097889"
      },
      "source": [
        "from sklearn.metrics import confusion_matrix\n",
        "cnf_matrix = confusion_matrix(y_true, y_pred)\n",
        "print('Confusion matrix:')\n",
        "print(cnf_matrix)"
      ],
      "execution_count": 5,
      "outputs": [
        {
          "output_type": "stream",
          "text": [
            "Confusion matrix:\n",
            "[[2 1 1]\n",
            " [1 2 0]\n",
            " [0 1 2]]\n"
          ],
          "name": "stdout"
        }
      ]
    },
    {
      "cell_type": "code",
      "metadata": {
        "id": "MLkABZi8ze3k",
        "colab": {
          "base_uri": "https://localhost:8080/",
          "height": 604
        },
        "outputId": "82167d62-0f10-4461-ae78-39d46c00e5db"
      },
      "source": [
        "import matplotlib.pyplot as plt\n",
        "import itertools\n",
        "def plot_confusion_matrix(cm, classes,\n",
        "                          normalize=False,\n",
        "                          title='Confusion matrix',\n",
        "                          cmap=plt.cm.Blues):\n",
        "    \"\"\"\n",
        "    This function prints and plots the confusion matrix.\n",
        "    Normalization can be applied by setting `normalize=True`.\n",
        "    \"\"\"\n",
        "    if normalize:\n",
        "        cm = cm.astype('float') / cm.sum(axis=1, keepdims = True)\n",
        "\n",
        "    plt.imshow(cm, interpolation='nearest', cmap=cmap)\n",
        "    plt.title(title)\n",
        "    plt.colorbar()\n",
        "    tick_marks = np.arange(len(classes))\n",
        "    plt.xticks(tick_marks, classes, rotation=45)\n",
        "    plt.yticks(tick_marks, classes)\n",
        "\n",
        "    fmt = '.2f' if normalize else 'd'\n",
        "    thresh = cm.max() / 2.\n",
        "    for i, j in itertools.product(range(cm.shape[0]), range(cm.shape[1])):\n",
        "        plt.text(j, i, format(cm[i, j], fmt),\n",
        "                 horizontalalignment=\"center\",\n",
        "                 color=\"white\" if cm[i, j] > thresh else \"black\")\n",
        "\n",
        "    plt.tight_layout()\n",
        "    plt.ylabel('True label')\n",
        "    plt.xlabel('Predicted label')\n",
        "\n",
        "\n",
        "class_names = [0, 1, 2]\n",
        "plt.figure()\n",
        "plot_confusion_matrix(cnf_matrix, classes=class_names,\n",
        "                      title='Confusion matrix, without normalization')\n",
        "\n",
        "\n",
        "plt.figure()\n",
        "plot_confusion_matrix(cnf_matrix, classes=class_names, normalize=True,\n",
        "                      title='Normalized confusion matrix')\n",
        "\n",
        "plt.show()"
      ],
      "execution_count": 6,
      "outputs": [
        {
          "output_type": "display_data",
          "data": {
            "image/png": "[encoded data removed]",
            "text/plain": [
              "<Figure size 432x288 with 2 Axes>"
            ]
          },
          "metadata": {
            "tags": [],
            "needs_background": "light"
          }
        },
        {
          "output_type": "display_data",
          "data": {
            "image/png": "[encoded data removed]",
            "text/plain": [
              "<Figure size 432x288 with 2 Axes>"
            ]
          },
          "metadata": {
            "tags": [],
            "needs_background": "light"
          }
        }
      ]
    },
    {
      "cell_type": "code",
      "metadata": {
        "id": "BwPPxx3RzoyE",
        "colab": {
          "base_uri": "https://localhost:8080/"
        },
        "outputId": "65f1254d-1680-4ecb-d72b-ba0c5d9b4698"
      },
      "source": [
        "n0, n1 = 20, 30\n",
        "score0 = np.random.rand(n0)/2\n",
        "label0 = np.zeros(n0, dtype = int)\n",
        "score1  = np.random.rand(n1)/2 + .2\n",
        "label1 = np.ones(n1, dtype = int)\n",
        "scores = np.concatenate((score0, score1))\n",
        "y_true = np.concatenate((label0, label1))\n",
        "\n",
        "print('True labels:')\n",
        "print(y_true)\n",
        "print('\\nScores:')\n",
        "print(scores)"
      ],
      "execution_count": 7,
      "outputs": [
        {
          "output_type": "stream",
          "text": [
            "True labels:\n",
            "[0 0 0 0 0 0 0 0 0 0 0 0 0 0 0 0 0 0 0 0 1 1 1 1 1 1 1 1 1 1 1 1 1 1 1 1 1\n",
            " 1 1 1 1 1 1 1 1 1 1 1 1 1]\n",
            "\n",
            "Scores:\n",
            "[0.30480319 0.45324349 0.39078811 0.18230756 0.49326655 0.07123192\n",
            " 0.47840272 0.30373979 0.41147411 0.12473547 0.01577929 0.02072229\n",
            " 0.4165688  0.23895961 0.16096596 0.47824247 0.07946317 0.42733763\n",
            " 0.46526069 0.10029072 0.45699542 0.58222816 0.49458834 0.53879857\n",
            " 0.64781351 0.2576523  0.22799895 0.41301801 0.67150466 0.56563695\n",
            " 0.30052366 0.36722699 0.33869824 0.66846814 0.60561901 0.60210124\n",
            " 0.32778115 0.63951821 0.46299819 0.5848701  0.68080228 0.46590447\n",
            " 0.25823172 0.37232982 0.54221286 0.40514361 0.4393607  0.4995879\n",
            " 0.49182531 0.2050292 ]\n"
          ],
          "name": "stdout"
        }
      ]
    },
    {
      "cell_type": "code",
      "metadata": {
        "id": "H4RFR-4WzrHN",
        "colab": {
          "base_uri": "https://localhost:8080/"
        },
        "outputId": "1a27374a-b758-4226-9d4e-7fb3a60951d3"
      },
      "source": [
        "from sklearn.metrics import roc_curve, auc\n",
        "fpr, tpr, thresholds = roc_curve(y_true, scores, pos_label = 1)\n",
        "print('Thresholds:')\n",
        "print(thresholds)"
      ],
      "execution_count": 8,
      "outputs": [
        {
          "output_type": "stream",
          "text": [
            "Thresholds:\n",
            "[1.68080228 0.68080228 0.49458834 0.49326655 0.49182531 0.47824247\n",
            " 0.46590447 0.46526069 0.45699542 0.45324349 0.4393607  0.4165688\n",
            " 0.41301801 0.41147411 0.40514361 0.39078811 0.32778115 0.30373979\n",
            " 0.2576523  0.23895961 0.2050292  0.01577929]\n"
          ],
          "name": "stdout"
        }
      ]
    },
    {
      "cell_type": "code",
      "metadata": {
        "id": "H23_AzIUztQs",
        "colab": {
          "base_uri": "https://localhost:8080/"
        },
        "outputId": "f4a17653-da36-4d4a-9581-f72f8ce79410"
      },
      "source": [
        "print('False Positive Rate:')\n",
        "print(fpr)"
      ],
      "execution_count": 9,
      "outputs": [
        {
          "output_type": "stream",
          "text": [
            "False Positive Rate:\n",
            "[0.   0.   0.   0.05 0.05 0.15 0.15 0.2  0.2  0.25 0.25 0.35 0.35 0.4\n",
            " 0.4  0.45 0.45 0.55 0.55 0.6  0.6  1.  ]\n"
          ],
          "name": "stdout"
        }
      ]
    },
    {
      "cell_type": "code",
      "metadata": {
        "id": "YsTInCJIzwjE",
        "colab": {
          "base_uri": "https://localhost:8080/"
        },
        "outputId": "63abc051-2db8-47e8-dd5b-09afd9d16bb7"
      },
      "source": [
        "print('True Positive Rate:')\n",
        "tpr"
      ],
      "execution_count": 10,
      "outputs": [
        {
          "output_type": "stream",
          "text": [
            "True Positive Rate:\n"
          ],
          "name": "stdout"
        },
        {
          "output_type": "execute_result",
          "data": {
            "text/plain": [
              "array([0.        , 0.03333333, 0.46666667, 0.46666667, 0.5       ,\n",
              "       0.5       , 0.53333333, 0.53333333, 0.6       , 0.6       ,\n",
              "       0.63333333, 0.63333333, 0.66666667, 0.66666667, 0.7       ,\n",
              "       0.7       , 0.83333333, 0.83333333, 0.93333333, 0.93333333,\n",
              "       1.        , 1.        ])"
            ]
          },
          "metadata": {
            "tags": []
          },
          "execution_count": 10
        }
      ]
    },
    {
      "cell_type": "code",
      "metadata": {
        "id": "lkZ-XcybzyFV",
        "colab": {
          "base_uri": "https://localhost:8080/",
          "height": 294
        },
        "outputId": "22ece44b-c3f7-460f-aa19-49a14c1f927f"
      },
      "source": [
        "import matplotlib.pyplot as plt\n",
        "from itertools import cycle\n",
        "plt.figure()\n",
        "lw = 2\n",
        "plt.plot(fpr, tpr, color='darkorange',\n",
        "         lw=lw, label='ROC curve (area = %0.2f)' % auc(fpr, tpr))\n",
        "plt.plot([0, 1], [0, 1], color='navy', lw=lw, linestyle='--')\n",
        "plt.xlim([0.0, 1.0])\n",
        "plt.ylim([0.0, 1.05])\n",
        "plt.xlabel('False Positive Rate')\n",
        "plt.ylabel('True Positive Rate')\n",
        "plt.title('Receiver operating characteristic example')\n",
        "plt.legend(loc=\"lower right\")\n",
        "plt.show()"
      ],
      "execution_count": 11,
      "outputs": [
        {
          "output_type": "display_data",
          "data": {
            "image/png": "[encoded data removed]",
            "text/plain": [
              "<Figure size 432x288 with 1 Axes>"
            ]
          },
          "metadata": {
            "tags": [],
            "needs_background": "light"
          }
        }
      ]
    },
    {
      "cell_type": "code",
      "metadata": {
        "id": "QDXLK3lSz2uE",
        "colab": {
          "base_uri": "https://localhost:8080/"
        },
        "outputId": "36892807-c2ed-4c6e-9d12-b20837e3daf9"
      },
      "source": [
        "from __future__ import print_function\n",
        "import numpy as np \n",
        "# confusion matrix to precision + recall\n",
        "def cm2pr_binary(cm):\n",
        "    p = cm[0,0]/np.sum(cm[:,0])\n",
        "    r = cm[0,0]/np.sum(cm[0])\n",
        "    return (p, r)\n",
        "\n",
        "# example of a confusion matrix for binary classification problem \n",
        "cm = np.array([[100., 10], [20, 70]])\n",
        "p,r = cm2pr_binary(cm)\n",
        "print(\"precition = {0:.2f}, recall = {1:.2f}\".format(p, r))"
      ],
      "execution_count": 12,
      "outputs": [
        {
          "output_type": "stream",
          "text": [
            "precition = 0.83, recall = 0.91\n"
          ],
          "name": "stdout"
        }
      ]
    },
    {
      "cell_type": "code",
      "metadata": {
        "id": "FOQvIBMez6tU",
        "colab": {
          "base_uri": "https://localhost:8080/"
        },
        "outputId": "845fda86-dbb2-411b-9562-d76fef9a9863"
      },
      "source": [
        "tp1, fp1, fn1 = 10, 5, 3\n",
        "tp2, fp2, fn2 = 17, 7, 10\n",
        "tp3, fp3, fn3 = 25, 2, 4 \n",
        "def PR(tp, fp, fn):\n",
        "    P = float(tp)/(tp + fp)\n",
        "    R = float(tp)/(tp + fn)\n",
        "    return (P, R)\n",
        "\n",
        "(P1, R1) = PR(tp1, fp1, fn1)\n",
        "(P2, R2) = PR(tp2, fp2, fn2)\n",
        "(P3, R3) = PR(tp3, fp3, fn2)\n",
        "\n",
        "print('(P1, R1) = (%.2f, %.2f)'%(P1, R1))\n",
        "print('(P2, R2) = (%.2f, %.2f)'%(P2, R2))\n",
        "print('(P3, R3) = (%.2f, %.2f)'%(P3, R3))"
      ],
      "execution_count": 13,
      "outputs": [
        {
          "output_type": "stream",
          "text": [
            "(P1, R1) = (0.67, 0.77)\n",
            "(P2, R2) = (0.71, 0.63)\n",
            "(P3, R3) = (0.93, 0.71)\n"
          ],
          "name": "stdout"
        }
      ]
    },
    {
      "cell_type": "code",
      "metadata": {
        "id": "cSZyL65p0Bwl",
        "colab": {
          "base_uri": "https://localhost:8080/"
        },
        "outputId": "c505e142-d5f2-4811-e976-692e85d668cc"
      },
      "source": [
        "total_tp = tp1 + tp2 + tp3\n",
        "total_fp = fp1 + fp2 + fp3 \n",
        "total_fn = fn1 + fn2 + fn3 \n",
        "micro_ap = float(total_tp)/(total_tp + total_fp)\n",
        "micro_ar = float(total_tp)/(total_tp + total_fn)\n",
        "print('(micro_ap, micro_ar) = (%.2f, %.2f)' % (micro_ap, micro_ar))"
      ],
      "execution_count": 14,
      "outputs": [
        {
          "output_type": "stream",
          "text": [
            "(micro_ap, micro_ar) = (0.79, 0.75)\n"
          ],
          "name": "stdout"
        }
      ]
    },
    {
      "cell_type": "code",
      "metadata": {
        "id": "uhu_SKMh0DEz",
        "colab": {
          "base_uri": "https://localhost:8080/"
        },
        "outputId": "859e6e62-44b5-4134-9b5a-1094a86385bb"
      },
      "source": [
        "macro_ap = (P1 + P2 + P3)/3\n",
        "macro_ar = (R1 + R2 + R3)/3\n",
        "print('(micro_ap, micro_ar) = (%.2f, %.2f)' % (macro_ap, macro_ar))"
      ],
      "execution_count": 15,
      "outputs": [
        {
          "output_type": "stream",
          "text": [
            "(micro_ap, micro_ar) = (0.77, 0.70)\n"
          ],
          "name": "stdout"
        }
      ]
    }
  ]
}