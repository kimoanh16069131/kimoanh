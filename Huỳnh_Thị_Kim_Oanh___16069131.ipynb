{
  "nbformat": 4,
  "nbformat_minor": 0,
  "metadata": {
    "colab": {
      "name": "Huỳnh Thị Kim Oanh _ 16069131.ipynb",
      "provenance": [],
      "toc_visible": true,
      "authorship_tag": "ABX9TyO+RzSBKvzZ6X5xLOTdaBts",
      "include_colab_link": true
    },
    "kernelspec": {
      "name": "python3",
      "display_name": "Python 3"
    }
  },
  "cells": [
    {
      "cell_type": "markdown",
      "metadata": {
        "id": "view-in-github",
        "colab_type": "text"
      },
      "source": [
        "<a href=\"https://colab.research.google.com/github/kimoanh16069131/kimoanh/blob/master/Hu%E1%BB%B3nh_Th%E1%BB%8B_Kim_Oanh___16069131.ipynb\" target=\"_parent\"><img src=\"https://colab.research.google.com/assets/colab-badge.svg\" alt=\"Open In Colab\"/></a>"
      ]
    },
    {
      "cell_type": "markdown",
      "metadata": {
        "id": "bOEo5Yrpx-2F"
      },
      "source": [
        "Môn: Lập trình phân tích dữ liệu 2\r\n",
        "\r\n",
        "Tên: Huỳnh Thị Kim Oanh\r\n",
        "\r\n",
        "MSSV: 16069131"
      ]
    },
    {
      "cell_type": "code",
      "metadata": {
        "id": "Y9PJsqQVyLoT"
      },
      "source": [
        "import numpy as np\r\n",
        "import pandas as pd\r\n",
        "from matplotlib import pyplot as plt\r\n",
        "%matplotlib inline\r\n",
        "import seaborn as sns"
      ],
      "execution_count": 1,
      "outputs": []
    },
    {
      "cell_type": "code",
      "metadata": {
        "id": "9VVZYDUL0dIX"
      },
      "source": [
        "df = pd.read_excel('/content/sample_data/KQThiLyThuyet-26.12.2020_ca2.xls')"
      ],
      "execution_count": 9,
      "outputs": []
    },
    {
      "cell_type": "code",
      "metadata": {
        "colab": {
          "base_uri": "https://localhost:8080/"
        },
        "id": "3FbadRgg22NF",
        "outputId": "0ed65b17-337b-4b3f-ece9-6072f08b76b1"
      },
      "source": [
        "df.info()"
      ],
      "execution_count": 18,
      "outputs": [
        {
          "output_type": "stream",
          "text": [
            "<class 'pandas.core.frame.DataFrame'>\n",
            "RangeIndex: 64 entries, 0 to 63\n",
            "Data columns (total 7 columns):\n",
            " #   Column     Non-Null Count  Dtype  \n",
            "---  ------     --------------  -----  \n",
            " 0   STT        64 non-null     int64  \n",
            " 1   Mã SV      64 non-null     int64  \n",
            " 2   Họ đệm     64 non-null     object \n",
            " 3   Tên        64 non-null     object \n",
            " 4   Giới tính  64 non-null     object \n",
            " 5   Ngày sinh  60 non-null     object \n",
            " 6   Điểm.1     64 non-null     float64\n",
            "dtypes: float64(1), int64(2), object(4)\n",
            "memory usage: 3.6+ KB\n"
          ],
          "name": "stdout"
        }
      ]
    },
    {
      "cell_type": "code",
      "metadata": {
        "id": "tJ5UZblS3HrU"
      },
      "source": [
        "df.drop('Điểm',axis=1,inplace=True)"
      ],
      "execution_count": 15,
      "outputs": []
    },
    {
      "cell_type": "code",
      "metadata": {
        "colab": {
          "base_uri": "https://localhost:8080/",
          "height": 419
        },
        "id": "dadyolFO0vM9",
        "outputId": "1687dd56-0955-4ee6-861d-45cd53e7ea41"
      },
      "source": [
        "df"
      ],
      "execution_count": 16,
      "outputs": [
        {
          "output_type": "execute_result",
          "data": {
            "text/html": [
              "<div>\n",
              "<style scoped>\n",
              "    .dataframe tbody tr th:only-of-type {\n",
              "        vertical-align: middle;\n",
              "    }\n",
              "\n",
              "    .dataframe tbody tr th {\n",
              "        vertical-align: top;\n",
              "    }\n",
              "\n",
              "    .dataframe thead th {\n",
              "        text-align: right;\n",
              "    }\n",
              "</style>\n",
              "<table border=\"1\" class=\"dataframe\">\n",
              "  <thead>\n",
              "    <tr style=\"text-align: right;\">\n",
              "      <th></th>\n",
              "      <th>STT</th>\n",
              "      <th>Mã SV</th>\n",
              "      <th>Họ đệm</th>\n",
              "      <th>Tên</th>\n",
              "      <th>Giới tính</th>\n",
              "      <th>Ngày sinh</th>\n",
              "      <th>Điểm.1</th>\n",
              "    </tr>\n",
              "  </thead>\n",
              "  <tbody>\n",
              "    <tr>\n",
              "      <th>0</th>\n",
              "      <td>1</td>\n",
              "      <td>18066431</td>\n",
              "      <td>Đỗ Huy Quốc</td>\n",
              "      <td>An</td>\n",
              "      <td>Nữ</td>\n",
              "      <td>2000-08-11 00:00:00</td>\n",
              "      <td>5.0</td>\n",
              "    </tr>\n",
              "    <tr>\n",
              "      <th>1</th>\n",
              "      <td>2</td>\n",
              "      <td>18031341</td>\n",
              "      <td>Hồ Văn Công</td>\n",
              "      <td>Anh</td>\n",
              "      <td>Nữ</td>\n",
              "      <td>27/09/2000</td>\n",
              "      <td>5.5</td>\n",
              "    </tr>\n",
              "    <tr>\n",
              "      <th>2</th>\n",
              "      <td>4</td>\n",
              "      <td>19462511</td>\n",
              "      <td>Nguyễn Thị Tuyết</td>\n",
              "      <td>Anh</td>\n",
              "      <td>Nữ</td>\n",
              "      <td>2001-01-01 00:00:00</td>\n",
              "      <td>6.5</td>\n",
              "    </tr>\n",
              "    <tr>\n",
              "      <th>3</th>\n",
              "      <td>5</td>\n",
              "      <td>18002951</td>\n",
              "      <td>Bùi Thái</td>\n",
              "      <td>Bình</td>\n",
              "      <td>Nữ</td>\n",
              "      <td>25/09/2000</td>\n",
              "      <td>6.0</td>\n",
              "    </tr>\n",
              "    <tr>\n",
              "      <th>4</th>\n",
              "      <td>6</td>\n",
              "      <td>18024551</td>\n",
              "      <td>Bùi Kim</td>\n",
              "      <td>Chi</td>\n",
              "      <td>Nữ</td>\n",
              "      <td>2000-04-06 00:00:00</td>\n",
              "      <td>7.0</td>\n",
              "    </tr>\n",
              "    <tr>\n",
              "      <th>...</th>\n",
              "      <td>...</td>\n",
              "      <td>...</td>\n",
              "      <td>...</td>\n",
              "      <td>...</td>\n",
              "      <td>...</td>\n",
              "      <td>...</td>\n",
              "      <td>...</td>\n",
              "    </tr>\n",
              "    <tr>\n",
              "      <th>59</th>\n",
              "      <td>61</td>\n",
              "      <td>18015761</td>\n",
              "      <td>Đỗ Thị Lan</td>\n",
              "      <td>Vân</td>\n",
              "      <td>Nữ</td>\n",
              "      <td>2000-08-12 00:00:00</td>\n",
              "      <td>5.5</td>\n",
              "    </tr>\n",
              "    <tr>\n",
              "      <th>60</th>\n",
              "      <td>62</td>\n",
              "      <td>17071471</td>\n",
              "      <td>Trần Thùy</td>\n",
              "      <td>Vân</td>\n",
              "      <td>Nữ</td>\n",
              "      <td>NaN</td>\n",
              "      <td>4.5</td>\n",
              "    </tr>\n",
              "    <tr>\n",
              "      <th>61</th>\n",
              "      <td>63</td>\n",
              "      <td>18098621</td>\n",
              "      <td>Nguyễn Tường</td>\n",
              "      <td>Vy</td>\n",
              "      <td>Nữ</td>\n",
              "      <td>21/04/2000</td>\n",
              "      <td>5.0</td>\n",
              "    </tr>\n",
              "    <tr>\n",
              "      <th>62</th>\n",
              "      <td>64</td>\n",
              "      <td>17054331</td>\n",
              "      <td>Từ Thị Thảo</td>\n",
              "      <td>Vy</td>\n",
              "      <td>Nữ</td>\n",
              "      <td>18/12/1999</td>\n",
              "      <td>4.0</td>\n",
              "    </tr>\n",
              "    <tr>\n",
              "      <th>63</th>\n",
              "      <td>65</td>\n",
              "      <td>18020671</td>\n",
              "      <td>Đoàn Nhị Thiên</td>\n",
              "      <td>Y</td>\n",
              "      <td>Nữ</td>\n",
              "      <td>18/10/2000</td>\n",
              "      <td>6.0</td>\n",
              "    </tr>\n",
              "  </tbody>\n",
              "</table>\n",
              "<p>64 rows × 7 columns</p>\n",
              "</div>"
            ],
            "text/plain": [
              "    STT     Mã SV            Họ đệm  ... Giới tính            Ngày sinh Điểm.1\n",
              "0     1  18066431       Đỗ Huy Quốc  ...        Nữ  2000-08-11 00:00:00    5.0\n",
              "1     2  18031341       Hồ Văn Công  ...        Nữ           27/09/2000    5.5\n",
              "2     4  19462511  Nguyễn Thị Tuyết  ...        Nữ  2001-01-01 00:00:00    6.5\n",
              "3     5  18002951          Bùi Thái  ...        Nữ           25/09/2000    6.0\n",
              "4     6  18024551           Bùi Kim  ...        Nữ  2000-04-06 00:00:00    7.0\n",
              "..  ...       ...               ...  ...       ...                  ...    ...\n",
              "59   61  18015761        Đỗ Thị Lan  ...        Nữ  2000-08-12 00:00:00    5.5\n",
              "60   62  17071471         Trần Thùy  ...        Nữ                  NaN    4.5\n",
              "61   63  18098621      Nguyễn Tường  ...        Nữ           21/04/2000    5.0\n",
              "62   64  17054331       Từ Thị Thảo  ...        Nữ           18/12/1999    4.0\n",
              "63   65  18020671    Đoàn Nhị Thiên  ...        Nữ           18/10/2000    6.0\n",
              "\n",
              "[64 rows x 7 columns]"
            ]
          },
          "metadata": {
            "tags": []
          },
          "execution_count": 16
        }
      ]
    },
    {
      "cell_type": "code",
      "metadata": {
        "id": "1-i8OidJ3eKN"
      },
      "source": [
        "df['STT']=df['STT'].astype('object')"
      ],
      "execution_count": 20,
      "outputs": []
    },
    {
      "cell_type": "code",
      "metadata": {
        "id": "gjv9eUBo3y_-"
      },
      "source": [
        "df['Mã SV']=df['Mã SV'].astype('object')"
      ],
      "execution_count": 22,
      "outputs": []
    },
    {
      "cell_type": "code",
      "metadata": {
        "colab": {
          "base_uri": "https://localhost:8080/",
          "height": 297
        },
        "id": "XSKaYSU31NWV",
        "outputId": "6b9d51f5-eb82-4b0a-f089-261091201476"
      },
      "source": [
        "df.describe()"
      ],
      "execution_count": 25,
      "outputs": [
        {
          "output_type": "execute_result",
          "data": {
            "text/html": [
              "<div>\n",
              "<style scoped>\n",
              "    .dataframe tbody tr th:only-of-type {\n",
              "        vertical-align: middle;\n",
              "    }\n",
              "\n",
              "    .dataframe tbody tr th {\n",
              "        vertical-align: top;\n",
              "    }\n",
              "\n",
              "    .dataframe thead th {\n",
              "        text-align: right;\n",
              "    }\n",
              "</style>\n",
              "<table border=\"1\" class=\"dataframe\">\n",
              "  <thead>\n",
              "    <tr style=\"text-align: right;\">\n",
              "      <th></th>\n",
              "      <th>Điểm.1</th>\n",
              "    </tr>\n",
              "  </thead>\n",
              "  <tbody>\n",
              "    <tr>\n",
              "      <th>count</th>\n",
              "      <td>64.000000</td>\n",
              "    </tr>\n",
              "    <tr>\n",
              "      <th>mean</th>\n",
              "      <td>5.421875</td>\n",
              "    </tr>\n",
              "    <tr>\n",
              "      <th>std</th>\n",
              "      <td>1.225453</td>\n",
              "    </tr>\n",
              "    <tr>\n",
              "      <th>min</th>\n",
              "      <td>0.000000</td>\n",
              "    </tr>\n",
              "    <tr>\n",
              "      <th>25%</th>\n",
              "      <td>4.875000</td>\n",
              "    </tr>\n",
              "    <tr>\n",
              "      <th>50%</th>\n",
              "      <td>5.500000</td>\n",
              "    </tr>\n",
              "    <tr>\n",
              "      <th>75%</th>\n",
              "      <td>6.500000</td>\n",
              "    </tr>\n",
              "    <tr>\n",
              "      <th>max</th>\n",
              "      <td>7.000000</td>\n",
              "    </tr>\n",
              "  </tbody>\n",
              "</table>\n",
              "</div>"
            ],
            "text/plain": [
              "          Điểm.1\n",
              "count  64.000000\n",
              "mean    5.421875\n",
              "std     1.225453\n",
              "min     0.000000\n",
              "25%     4.875000\n",
              "50%     5.500000\n",
              "75%     6.500000\n",
              "max     7.000000"
            ]
          },
          "metadata": {
            "tags": []
          },
          "execution_count": 25
        }
      ]
    },
    {
      "cell_type": "code",
      "metadata": {
        "colab": {
          "base_uri": "https://localhost:8080/",
          "height": 315
        },
        "id": "eBdfqiYY9h-m",
        "outputId": "705ba657-3c9b-48d5-cd10-654bc5da2ed8"
      },
      "source": [
        "df.hist(column='Điểm.1')"
      ],
      "execution_count": 26,
      "outputs": [
        {
          "output_type": "execute_result",
          "data": {
            "text/plain": [
              "array([[<matplotlib.axes._subplots.AxesSubplot object at 0x7fa0b803c048>]],\n",
              "      dtype=object)"
            ]
          },
          "metadata": {
            "tags": []
          },
          "execution_count": 26
        },
        {
          "output_type": "display_data",
          "data": {
            "image/png": "[encoded data removed]",
            "text/plain": [
              "<Figure size 432x288 with 1 Axes>"
            ]
          },
          "metadata": {
            "tags": [],
            "needs_background": "light"
          }
        }
      ]
    },
    {
      "cell_type": "markdown",
      "metadata": {
        "id": "L910spfH9yhF"
      },
      "source": [
        "Biểu đồ Histogram cột Điểm.1: \r\n",
        "\r\n",
        "Trục y: Biểu thị giá trị điểm biến thiên từ min (điểm = 0)\r\n",
        "\r\n",
        "đến max (điểm = 7), chia khoảng cách điểm.  \r\n",
        "\r\n",
        "Trục x: thể hiện số lượng điểm có giá trị được xác định ở cột y"
      ]
    },
    {
      "cell_type": "code",
      "metadata": {
        "colab": {
          "base_uri": "https://localhost:8080/",
          "height": 296
        },
        "id": "RQ_JBM2YE_Ud",
        "outputId": "771269a9-f11b-4212-f9b8-988ea735f2da"
      },
      "source": [
        "sns.boxplot(x=df['Điểm.1'], y=df['Giới tính'])"
      ],
      "execution_count": 41,
      "outputs": [
        {
          "output_type": "execute_result",
          "data": {
            "text/plain": [
              "<matplotlib.axes._subplots.AxesSubplot at 0x7fa0b7639780>"
            ]
          },
          "metadata": {
            "tags": []
          },
          "execution_count": 41
        },
        {
          "output_type": "display_data",
          "data": {
            "image/png": "[encoded data removed]",
            "text/plain": [
              "<Figure size 432x288 with 1 Axes>"
            ]
          },
          "metadata": {
            "tags": [],
            "needs_background": "light"
          }
        }
      ]
    },
    {
      "cell_type": "markdown",
      "metadata": {
        "id": "j0PCXDPaFdb9"
      },
      "source": [
        "Biểu đồ boxplot với x: Điểm.1, y: Giới tính\r\n",
        "\r\n",
        "Nhận thấy: Có 1 giá trị 0, 2 đầu mút là giá trị điểm từ 3.5 đến 7. \r\n",
        "\r\n",
        "Trong đó, phần màu xanh là sự tập trung của điểm xuất hiện nhiều lần. \r\n",
        "\r\n",
        "Đường gạch đứng giữa phần màu xanh biểu thị giá trị trung bình số điểm của 64 sinh viên giới tính \"Nữ\". \r\n",
        "\r\n",
        "Trong dữ liệu, cột giới tính có 1 giá trị là \"Nam\" nên phần Nam với điểm số là 5.5 nằm trên đường giá trị trung bình."
      ]
    }
  ]
}